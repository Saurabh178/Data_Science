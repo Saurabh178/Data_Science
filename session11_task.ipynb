{
  "nbformat": 4,
  "nbformat_minor": 0,
  "metadata": {
    "colab": {
      "provenance": [],
      "include_colab_link": true
    },
    "kernelspec": {
      "name": "python3",
      "display_name": "Python 3"
    },
    "language_info": {
      "name": "python"
    }
  },
  "cells": [
    {
      "cell_type": "markdown",
      "metadata": {
        "id": "view-in-github",
        "colab_type": "text"
      },
      "source": [
        "<a href=\"https://colab.research.google.com/github/Saurabh178/Data_Science/blob/master/session11_task.ipynb\" target=\"_parent\"><img src=\"https://colab.research.google.com/assets/colab-badge.svg\" alt=\"Open In Colab\"/></a>"
      ]
    },
    {
      "cell_type": "markdown",
      "source": [
        "## Exception Handling\n"
      ],
      "metadata": {
        "id": "ajVfqio_GinI"
      }
    },
    {
      "cell_type": "markdown",
      "source": [
        "###`Q-1`: You are given a function definition. There might be several issues on execution of this function. You are asked to do exception handling for diffrent errors that this function goes in to `without altering this function`. And print error text.\n",
        "\n"
      ],
      "metadata": {
        "id": "0qnQkJtnGozz"
      }
    },
    {
      "cell_type": "markdown",
      "source": [
        "Function parameters `l -> list, s -> could be anything`\n",
        "\n",
        "```\n",
        "def function(l: list, s, **args):\n",
        "    last_element = l[-1]\n",
        "    \n",
        "    l[int(s)]=10\n",
        "    any_element = l[int(s)+10]\n",
        "    l[s]=10\n",
        "    \n",
        "    res = sum(l)\n",
        "    \n",
        "    p = args['p']\n",
        "    # print(p)\n",
        "    return res/last_element * p + any_element\n",
        "\n",
        "```\n",
        "Check for different function calls:-\n",
        "\n",
        "```\n",
        "function([1,2,1], 12)\n",
        "function([1,2,1]*9, '1-2')\n",
        "function([1,'2',1]*9, 12)\n",
        "function([1,'2',1]*9, 12)\n",
        "function([1,2,0]*9, 12  )\n",
        "function([1,2,1]*9, 12, p=None)\n",
        "function([1,2,0]*9, 12, p=10)\n",
        "```"
      ],
      "metadata": {
        "id": "2no_EB2fGyGq"
      }
    },
    {
      "cell_type": "code",
      "source": [
        "# Write code here\n",
        "def function(l: list, s, **args):\n",
        "    try:\n",
        "      last_element = l[-1]\n",
        "\n",
        "      l[int(s)]=10\n",
        "      any_element = l[int(s)+10]\n",
        "      l[s]=10\n",
        "\n",
        "      res = sum(l)\n",
        "\n",
        "      p = args['p']\n",
        "      # print(p)\n",
        "      return res/last_element * p + any_element\n",
        "    except IndexError as e:\n",
        "      print(\"Index out of range\")\n",
        "    except ValueError as e:\n",
        "      print(\"Wrong combination of value used\")\n",
        "    except TypeError as e:\n",
        "      print(\"Unsupported operand type\")\n",
        "    except KeyError as e:\n",
        "      print(\"Invalid key used\")\n",
        "    except ZeroDivisionError as e:\n",
        "      print(\"Dividing by zero\")\n",
        "\n",
        "function([1,2,1], 12)\n",
        "function([1,2,1]*9, '1-2')\n",
        "function([1,'2',1]*9, 12)\n",
        "function([1,2,0]*9, 12  )\n",
        "function([1,2,1]*9, 12, p=None)\n",
        "function([1,2,0]*9, 12, p=10)"
      ],
      "metadata": {
        "id": "VoaL4_9eGjFU",
        "outputId": "cc6530d2-3174-40e6-b3b0-ad6b97660f5d",
        "colab": {
          "base_uri": "https://localhost:8080/"
        }
      },
      "execution_count": 16,
      "outputs": [
        {
          "output_type": "stream",
          "name": "stdout",
          "text": [
            "Index out of range\n",
            "Wrong combination of value used\n",
            "Unsupported operand type\n",
            "Invalid key used\n",
            "Unsupported operand type\n",
            "Dividing by zero\n"
          ]
        }
      ]
    },
    {
      "cell_type": "markdown",
      "source": [
        "###`Q-2:` You are given a code snippet. There might be several issues on execution of this code. You are asked to do exception handling for diffrent errors, condition is what ever happens we need to execute last line printing correct result of `sum of elements`.\n",
        "\n",
        "List have elemnts as any no of  `key-pair dict with key as list index and value as any integer`, `integers` and `numeric-strings`. There is always only one element in the dict.\n",
        "\n",
        "\n",
        "```\n",
        "l = [{0:2},2,3,4,'5', {5:10}]\n",
        "# For calculating sum of above list\n",
        "s=0\n",
        "for i in range(len(l)):\n",
        "    #You can Edit code from here\n",
        "    s += l[i].get(i)\n",
        "    s += l[i]\n",
        "    s += int(l[i])\n",
        "\n",
        "\n",
        "print(s)\n",
        "```"
      ],
      "metadata": {
        "id": "HuLMy2fVG9sL"
      }
    },
    {
      "cell_type": "code",
      "source": [
        "# Write code here\n",
        "l = [{0:2},2,3,4,'5', {5:10}]\n",
        "# For calculating sum of above list\n",
        "s=0\n",
        "for i in range(len(l)):\n",
        "    #You can Edit code from here\n",
        "    try:\n",
        "      s += l[i].get(i)\n",
        "    else:\n",
        "      s += int(l[i])\n",
        "\n",
        "\n",
        "print(s)"
      ],
      "metadata": {
        "id": "pEP8JU0qHAf8",
        "outputId": "08ff6d10-13ad-4357-c6f7-a15c1de67c9e",
        "colab": {
          "base_uri": "https://localhost:8080/",
          "height": 160
        }
      },
      "execution_count": 18,
      "outputs": [
        {
          "output_type": "error",
          "ename": "SyntaxError",
          "evalue": "ignored",
          "traceback": [
            "\u001b[0;36m  File \u001b[0;32m\"<ipython-input-18-b199598590c0>\"\u001b[0;36m, line \u001b[0;32m9\u001b[0m\n\u001b[0;31m    else:\u001b[0m\n\u001b[0m    ^\u001b[0m\n\u001b[0;31mSyntaxError\u001b[0m\u001b[0;31m:\u001b[0m expected 'except' or 'finally' block\n"
          ]
        }
      ]
    },
    {
      "cell_type": "markdown",
      "source": [
        "### `Q-3:`: File Handling with Exception handling\n",
        "\n",
        "Write a program that opens a text file and write data to it as \"Hello, Good Morning!!!\". Handle exceptions that can be generated during the I/O operations. Do not show the success message on the main exception handling block (write inside the else block)."
      ],
      "metadata": {
        "id": "ohE2fDTXHIan"
      }
    },
    {
      "cell_type": "code",
      "source": [
        "# write code here\n",
        "\n",
        "try:\n",
        "  with open('test.txt', mode='w') as f:\n",
        "    f.write('Hello, Good Morning!!!')\n",
        "except Exception as e:\n",
        "  print(\"Error opening file\")\n",
        "else:\n",
        "  print('Task Done Successfully')"
      ],
      "metadata": {
        "id": "iOeiWrcIHPlY",
        "outputId": "a0af7391-e8cc-4f81-e904-297b4c4eb1ac",
        "colab": {
          "base_uri": "https://localhost:8080/"
        }
      },
      "execution_count": 19,
      "outputs": [
        {
          "output_type": "stream",
          "name": "stdout",
          "text": [
            "Task Done Successfull\n"
          ]
        }
      ]
    },
    {
      "cell_type": "markdown",
      "source": [
        "### `Q-4`: Number game program.\n",
        "\n",
        "Write a number game program. Ask the user to enter a number. If the number is greater than number to be guessed, raise a **ValueTooLarge** exception. If the value is smaller the number to be guessed the, raise a **ValueTooSmall** exception and prompt the user to enter again. Quit the program only when the user enters the correct number. Also raise **GuessError** if user guess a number less than 1."
      ],
      "metadata": {
        "id": "ru8g8-_bHTUf"
      }
    },
    {
      "cell_type": "code",
      "source": [
        "# Write code here\n",
        "import random\n",
        "\n",
        "def game(number_to_be_guessed,num):\n",
        "    if num==number_to_be_guessed:\n",
        "      print(\"Guessed Correctly\")\n",
        "      return\n",
        "    elif num<1:\n",
        "      raise Exception(\"Guess Error\")\n",
        "    elif num<number_to_be_guessed:\n",
        "      raise Exception(\"Value Too Small\")\n",
        "    else:\n",
        "      raise Exception(\"Value Too Large\")\n",
        "\n",
        "number_to_be_guessed=random.randint(1,99)\n",
        "\n",
        "while(True):\n",
        "  num=int(input(\"Guess the Number: \"))\n",
        "  try:\n",
        "    game(number_to_be_guessed, num)\n",
        "  except Exception as e:\n",
        "    print(e)\n",
        "  finally:\n",
        "    game(number_to_be_guessed, num)"
      ],
      "metadata": {
        "id": "QftlN5LJHZSX",
        "outputId": "21db5743-06ed-4d02-83a4-92c678d43e7d",
        "colab": {
          "base_uri": "https://localhost:8080/",
          "height": 375
        }
      },
      "execution_count": 22,
      "outputs": [
        {
          "output_type": "stream",
          "name": "stdout",
          "text": [
            "Guess the Number: 5\n",
            "Value Too Small\n"
          ]
        },
        {
          "output_type": "error",
          "ename": "Exception",
          "evalue": "ignored",
          "traceback": [
            "\u001b[0;31m---------------------------------------------------------------------------\u001b[0m",
            "\u001b[0;31mException\u001b[0m                                 Traceback (most recent call last)",
            "\u001b[0;32m<ipython-input-22-e9caaafa7a05>\u001b[0m in \u001b[0;36m<cell line: 17>\u001b[0;34m()\u001b[0m\n\u001b[1;32m     22\u001b[0m     \u001b[0mprint\u001b[0m\u001b[0;34m(\u001b[0m\u001b[0me\u001b[0m\u001b[0;34m)\u001b[0m\u001b[0;34m\u001b[0m\u001b[0;34m\u001b[0m\u001b[0m\n\u001b[1;32m     23\u001b[0m   \u001b[0;32mfinally\u001b[0m\u001b[0;34m:\u001b[0m\u001b[0;34m\u001b[0m\u001b[0;34m\u001b[0m\u001b[0m\n\u001b[0;32m---> 24\u001b[0;31m     \u001b[0mgame\u001b[0m\u001b[0;34m(\u001b[0m\u001b[0mnumber_to_be_guessed\u001b[0m\u001b[0;34m,\u001b[0m \u001b[0mnum\u001b[0m\u001b[0;34m)\u001b[0m\u001b[0;34m\u001b[0m\u001b[0;34m\u001b[0m\u001b[0m\n\u001b[0m",
            "\u001b[0;32m<ipython-input-22-e9caaafa7a05>\u001b[0m in \u001b[0;36mgame\u001b[0;34m(number_to_be_guessed, num)\u001b[0m\n\u001b[1;32m      9\u001b[0m       \u001b[0;32mraise\u001b[0m \u001b[0mException\u001b[0m\u001b[0;34m(\u001b[0m\u001b[0;34m\"Guess Error\"\u001b[0m\u001b[0;34m)\u001b[0m\u001b[0;34m\u001b[0m\u001b[0;34m\u001b[0m\u001b[0m\n\u001b[1;32m     10\u001b[0m     \u001b[0;32melif\u001b[0m \u001b[0mnum\u001b[0m\u001b[0;34m<\u001b[0m\u001b[0mnumber_to_be_guessed\u001b[0m\u001b[0;34m:\u001b[0m\u001b[0;34m\u001b[0m\u001b[0;34m\u001b[0m\u001b[0m\n\u001b[0;32m---> 11\u001b[0;31m       \u001b[0;32mraise\u001b[0m \u001b[0mException\u001b[0m\u001b[0;34m(\u001b[0m\u001b[0;34m\"Value Too Small\"\u001b[0m\u001b[0;34m)\u001b[0m\u001b[0;34m\u001b[0m\u001b[0;34m\u001b[0m\u001b[0m\n\u001b[0m\u001b[1;32m     12\u001b[0m     \u001b[0;32melse\u001b[0m\u001b[0;34m:\u001b[0m\u001b[0;34m\u001b[0m\u001b[0;34m\u001b[0m\u001b[0m\n\u001b[1;32m     13\u001b[0m       \u001b[0;32mraise\u001b[0m \u001b[0mException\u001b[0m\u001b[0;34m(\u001b[0m\u001b[0;34m\"Value Too Large\"\u001b[0m\u001b[0;34m)\u001b[0m\u001b[0;34m\u001b[0m\u001b[0;34m\u001b[0m\u001b[0m\n",
            "\u001b[0;31mException\u001b[0m: Value Too Small"
          ]
        }
      ]
    },
    {
      "cell_type": "code",
      "source": [],
      "metadata": {
        "id": "msrMhakut0qE"
      },
      "execution_count": null,
      "outputs": []
    },
    {
      "cell_type": "markdown",
      "source": [
        "### `Q-5:` Cast vote\n",
        "\n",
        "Write a program that validate name and age as entered by the user to determine whether the person can cast vote or not. To handle the age, create **InvalidAge** exception and for name, create **InvalidName** exception. The name will be invalid when the string will be empty or name has only one word.\n",
        "\n",
        "Example 1:\n",
        "\n",
        "Input:\n",
        "\n",
        "```bash\n",
        "Enter the name:               goransh singh\n",
        "Enter the age: 25\n",
        "```\n",
        "\n",
        "Output:\n",
        "\n",
        "```bash\n",
        "Goransh Singh  Congratulation !!! You can vote.\n",
        "```"
      ],
      "metadata": {
        "id": "ZsGI_40fHcsd"
      }
    },
    {
      "cell_type": "code",
      "source": [
        "# Write code here"
      ],
      "metadata": {
        "id": "OHL3UiS4Hi3U"
      },
      "execution_count": null,
      "outputs": []
    },
    {
      "cell_type": "markdown",
      "source": [
        "### `Q-6`: Write a python function which infinitely prints natural numbers in a single line. Raise the **StopIteration** exception after displaying first 20 numnbers to exit from the program."
      ],
      "metadata": {
        "id": "SCvs0QjgHlOG"
      }
    },
    {
      "cell_type": "code",
      "source": [
        "# Write code here"
      ],
      "metadata": {
        "id": "Lc5ilNgNHoSx"
      },
      "execution_count": null,
      "outputs": []
    }
  ]
}