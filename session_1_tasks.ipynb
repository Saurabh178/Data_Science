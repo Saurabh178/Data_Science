{
  "nbformat": 4,
  "nbformat_minor": 0,
  "metadata": {
    "colab": {
      "provenance": [],
      "include_colab_link": true
    },
    "kernelspec": {
      "name": "python3",
      "display_name": "Python 3"
    },
    "language_info": {
      "name": "python"
    }
  },
  "cells": [
    {
      "cell_type": "markdown",
      "metadata": {
        "id": "view-in-github",
        "colab_type": "text"
      },
      "source": [
        "<a href=\"https://colab.research.google.com/github/Saurabh178/Data_Science/blob/master/session_1_tasks.ipynb\" target=\"_parent\"><img src=\"https://colab.research.google.com/assets/colab-badge.svg\" alt=\"Open In Colab\"/></a>"
      ]
    },
    {
      "cell_type": "markdown",
      "source": [
        "# Task : Session 1\n",
        "Solve these questions own your own and try to test yourself what you have learned in the session.\n",
        "\n",
        "Happy Learning!"
      ],
      "metadata": {
        "id": "A05OG15VqOPF"
      }
    },
    {
      "cell_type": "markdown",
      "source": [
        "### Q1 :- Print the given strings as per stated format.\n",
        "\n",
        "**Given strings**:\n",
        "```\n",
        "\"Data\" \"Science\" \"Mentorship\" \"Program\"\n",
        "\"By\" \"CampusX\"\n",
        "```\n",
        "**Output**:\n",
        "```\n",
        "Data-Science-Mentorship-Program-started-By-CampusX\n",
        "```\n",
        "\n",
        "Concept- [Seperator and End]"
      ],
      "metadata": {
        "id": "2doIXf8bqe9_"
      }
    },
    {
      "cell_type": "code",
      "source": [
        "# Write your code here\n",
        "print('Data','Science','Mentorship','Program', sep='-', end='-')\n",
        "print('By','CampusX', sep='-')"
      ],
      "metadata": {
        "id": "-em6d3KErDtp",
        "outputId": "4302378c-0479-49f6-d772-160e832e3915",
        "colab": {
          "base_uri": "https://localhost:8080/"
        }
      },
      "execution_count": null,
      "outputs": [
        {
          "output_type": "stream",
          "name": "stdout",
          "text": [
            "Data-Science-Mentorship-Program-By-CampusX\n"
          ]
        }
      ]
    },
    {
      "cell_type": "markdown",
      "source": [
        "### Q2:- Write a program that will convert celsius value to fahrenheit."
      ],
      "metadata": {
        "id": "1KUpN7ZTrC3_"
      }
    },
    {
      "cell_type": "code",
      "source": [
        "# Write your code here\n",
        "celsius=int(input(\"Enter Temperature in Celsius: \"))\n",
        "fahrenheit=celsius*(9/5)+32\n",
        "print('Temperature in Fahrenheit is: ',fahrenheit)"
      ],
      "metadata": {
        "id": "yxKYhYQiqWfj",
        "outputId": "bab31111-9c7e-4932-93dc-8da0b2d71171",
        "colab": {
          "base_uri": "https://localhost:8080/"
        }
      },
      "execution_count": null,
      "outputs": [
        {
          "output_type": "stream",
          "name": "stdout",
          "text": [
            "Enter Temperature in Celsius: -40\n",
            "Temperature in Fahrenheit is:  -40.0\n"
          ]
        }
      ]
    },
    {
      "cell_type": "markdown",
      "source": [
        "### Q3:- Take 2 numbers as input from the user.Write a program to swap the numbers without using any special python syntax."
      ],
      "metadata": {
        "id": "RLrOBBJurLB2"
      }
    },
    {
      "cell_type": "code",
      "source": [
        "# Write your code here\n",
        "a =int(input(\"Enter First Number: \"))\n",
        "b=int(input(\"Enter Second Number: \"))\n",
        "print(\"a: \",a,\" b: \",b)\n",
        "print(\"Numbers after swapping\")\n",
        "tmp=a\n",
        "a=b\n",
        "b=tmp\n",
        "print(\"a: \",a,\" b: \",b)"
      ],
      "metadata": {
        "id": "yPn7if0TrJ4F",
        "outputId": "fb84255f-1c4a-4e1c-fd4f-81c0cc950b3d",
        "colab": {
          "base_uri": "https://localhost:8080/"
        }
      },
      "execution_count": null,
      "outputs": [
        {
          "output_type": "stream",
          "name": "stdout",
          "text": [
            "Enter First Number: 3\n",
            "Enter Second Number: 8\n",
            "a:  3  b:  8\n",
            "Numbers after swapping\n",
            "a:  8  b:  3\n"
          ]
        }
      ]
    },
    {
      "cell_type": "markdown",
      "source": [
        "### Q4:- Write a program to find the euclidean distance between two coordinates.Take both the coordinates from the user as input."
      ],
      "metadata": {
        "id": "waLCP1bjr7ML"
      }
    },
    {
      "cell_type": "code",
      "source": [
        "# Write your code here\n",
        "import math\n",
        "x1=int(input(\"Enter Distance x1: \"))\n",
        "y1=int(input(\"Enter Distance y1: \"))\n",
        "x2=int(input(\"Enter Distance x2: \"))\n",
        "y2=int(input(\"Enter Distance y2: \"))\n",
        "\n",
        "dis=(x2-x1)**2+(y2-y1)**2\n",
        "print(math.sqrt(dis))"
      ],
      "metadata": {
        "id": "Pl1Sv-xnrxnH",
        "outputId": "8dfacdeb-78a8-439d-c5c2-327458b210b1",
        "colab": {
          "base_uri": "https://localhost:8080/"
        }
      },
      "execution_count": null,
      "outputs": [
        {
          "output_type": "stream",
          "name": "stdout",
          "text": [
            "Enter Distance x1: 0\n",
            "Enter Distance y1: 4\n",
            "Enter Distance x2: 6\n",
            "Enter Distance y2: 2\n",
            "6.324555320336759\n"
          ]
        }
      ]
    },
    {
      "cell_type": "markdown",
      "source": [
        "### Q5:- Write a program to find the simple interest when the value of principle,rate of interest and time period is provided by the user.\n"
      ],
      "metadata": {
        "id": "VLrhg-FRsHjR"
      }
    },
    {
      "cell_type": "code",
      "source": [
        "# Write your code here\n",
        "principal=2000\n",
        "rate=6\n",
        "time=3\n",
        "SI=principal*rate *time/100\n",
        "print(SI)"
      ],
      "metadata": {
        "id": "s40DlReZsTmY",
        "outputId": "0269497b-eb02-45f1-de6b-c4b339e5d923",
        "colab": {
          "base_uri": "https://localhost:8080/"
        }
      },
      "execution_count": null,
      "outputs": [
        {
          "output_type": "stream",
          "name": "stdout",
          "text": [
            "360.0\n"
          ]
        }
      ]
    },
    {
      "cell_type": "markdown",
      "source": [
        "### Q6:- Write a program that will tell the number of dogs and chicken are there when the user will provide the value of total heads and legs.\n",
        "\n",
        "For example:\n",
        "Input:\n",
        "heads -> 4\n",
        "legs -> 12\n",
        "<br>\n",
        "Output:\n",
        "dogs -> 2\n",
        "chicken -> 2\n",
        "\n",
        "\n",
        "\n"
      ],
      "metadata": {
        "id": "LMy0BTUktYKa"
      }
    },
    {
      "cell_type": "code",
      "source": [
        "# Write your code here\n",
        "heads=0\n",
        "legs=0\n",
        "\n",
        "dogs=(legs-2*heads)/2\n",
        "chicken=heads-dogs\n",
        "print(\"Dogs: \",dogs,\"Chicken: \",chicken)"
      ],
      "metadata": {
        "id": "XSBvJoA4tXaG",
        "outputId": "13987e90-cba6-49b3-b31b-557150a7fbda",
        "colab": {
          "base_uri": "https://localhost:8080/"
        }
      },
      "execution_count": null,
      "outputs": [
        {
          "output_type": "stream",
          "name": "stdout",
          "text": [
            "Dogs:  0.0 Chicken:  0.0\n"
          ]
        }
      ]
    },
    {
      "cell_type": "markdown",
      "source": [
        "### Q7:- Write a program to find the sum of squares of first n natural numbers where n will be provided by the user."
      ],
      "metadata": {
        "id": "gJ7C5kZYt4BP"
      }
    },
    {
      "cell_type": "code",
      "source": [
        "# Write your code here\n",
        "n=int(input(\"Enter number:\" ))\n",
        "res=n*(n+1)/2\n",
        "print(res)"
      ],
      "metadata": {
        "id": "_tHsmEHzt2nX",
        "outputId": "0679b62d-1c3c-4177-ed35-6752e845e951",
        "colab": {
          "base_uri": "https://localhost:8080/"
        }
      },
      "execution_count": null,
      "outputs": [
        {
          "output_type": "stream",
          "name": "stdout",
          "text": [
            "Enter number:6\n",
            "21.0\n"
          ]
        }
      ]
    },
    {
      "cell_type": "markdown",
      "source": [
        "### Q8:- Given the first 2 terms of an Arithmetic Series.Find the Nth term of the series. Assume all inputs are provided by the user."
      ],
      "metadata": {
        "id": "FHrMM7g-yG1h"
      }
    },
    {
      "cell_type": "code",
      "source": [
        "# Write your code here\n",
        "a0=2\n",
        "a1=5\n",
        "n=100\n",
        "d=a1-a0\n",
        "an=a0+(n-1)*d\n",
        "print(an)"
      ],
      "metadata": {
        "id": "go4_kmZmyVSx",
        "outputId": "57d023da-f6aa-49f0-b43c-e2d8c4e4f272",
        "colab": {
          "base_uri": "https://localhost:8080/"
        }
      },
      "execution_count": null,
      "outputs": [
        {
          "output_type": "stream",
          "name": "stdout",
          "text": [
            "299\n"
          ]
        }
      ]
    },
    {
      "cell_type": "markdown",
      "source": [
        "### Q9:- Given 2 fractions, find the sum of those 2 fractions.Take the numerator and denominator values of the fractions from the user."
      ],
      "metadata": {
        "id": "QgyRX_es1oum"
      }
    },
    {
      "cell_type": "code",
      "source": [
        "# Write your code here\n",
        "n1=int(input(\"Enter numerator1: \"))\n",
        "d1=int(input(\"Enter denominator1: \"))\n",
        "n2=int(input(\"Enter numerator2: \"))\n",
        "d2=int(input(\"Enter denominator2: \"))\n",
        "\n",
        "res=(n1*d2+n2*d1)/(d1*d2)\n",
        "print(res)"
      ],
      "metadata": {
        "id": "X05xqFS1yW16",
        "outputId": "c51a11f3-26fb-4028-ce94-c28ed4133a59",
        "colab": {
          "base_uri": "https://localhost:8080/"
        }
      },
      "execution_count": null,
      "outputs": [
        {
          "output_type": "stream",
          "name": "stdout",
          "text": [
            "Enter numerator1: 1\n",
            "Enter denominator1: 3\n",
            "Enter numerator2: 1\n",
            "Enter denominator2: 3\n",
            "0.6666666666666666\n"
          ]
        }
      ]
    },
    {
      "cell_type": "markdown",
      "source": [
        "### Q10:- Given the height, width and breadth of a milk tank, you have to find out how many glasses of milk can be obtained? Assume all the inputs are provided by the user.\n",
        "\n",
        "\n",
        "\n",
        "Input:<br>\n",
        "Dimensions of the milk tank<br>\n",
        "H = 20cm, L = 20cm, B = 20cm\n",
        "<br><br>\n",
        "Dimensions of the glass<br>\n",
        "h = 3cm, r = 1cm"
      ],
      "metadata": {
        "id": "eaql38ln13u7"
      }
    },
    {
      "cell_type": "code",
      "source": [
        "# Write your code here\n",
        "print(\"Enter details of tank\")\n",
        "ht=int(input(\"Enter height: \"))\n",
        "l=int(input(\"Enter lenght: \"))\n",
        "b=int(input(\"Enter bredth: \"))\n",
        "\n",
        "print(\"Enter details of glass\")\n",
        "hg=int(input(\"Enter height: \"))\n",
        "r=int(input(\"Enter radius: \"))\n",
        "pi=22/7\n",
        "\n",
        "volTank=ht*l*b\n",
        "volGlass=pi*r**2*hg\n",
        "\n",
        "res=int(volTank/volGlass)\n",
        "print(\"Number of Glasses: \",res)"
      ],
      "metadata": {
        "id": "FePZqno74eWv",
        "outputId": "112223c4-dc8c-429a-bd77-40ec67003015",
        "colab": {
          "base_uri": "https://localhost:8080/"
        }
      },
      "execution_count": null,
      "outputs": [
        {
          "output_type": "stream",
          "name": "stdout",
          "text": [
            "Enter details of tank\n",
            "Enter height: 20\n",
            "Enter lenght: 20\n",
            "Enter bredth: 20\n",
            "Enter details of glass\n",
            "Enter height: 3\n",
            "Enter radius: 1\n",
            "Number of Glasses:  848\n"
          ]
        }
      ]
    }
  ]
}