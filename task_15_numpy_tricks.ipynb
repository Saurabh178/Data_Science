{
 "cells": [
  {
   "cell_type": "markdown",
   "metadata": {
    "id": "J88qfqQEk_sT"
   },
   "source": [
    "###`Q-1:` Create a random 3x4 matrix with value between 0-100. And perform below tasks\n",
    "\n",
    "    i. Sort this matrix. np.sort()\n",
    "    ii. Sort this matrix based on values in 2nd column.\n",
    "    iii. Sort this matrix based on max value in each row.\n",
    "    iv. Sort based on elements value.\n"
   ]
  },
  {
   "cell_type": "markdown",
   "metadata": {
    "id": "xpOwOdhqlE9R"
   },
   "source": [
    "See examples:\n",
    "```\n",
    "arr =\n",
    "    [[92 90 74]\n",
    "    [ 6 63 93]\n",
    "    [15 93 96]\n",
    "    [70 60 48]]\n",
    "```\n",
    "```\n",
    "i. np.sort\n",
    "[[74 90 92]\n",
    " [ 6 63 93]\n",
    " [15 93 96]\n",
    " [48 60 70]]\n",
    "\n",
    "ii. based on 2nd column\n",
    "[[70 60 48]\n",
    " [ 6 63 93]\n",
    " [92 90 74]\n",
    " [15 93 96]]\n",
    "\n",
    "iii. based on row max- ascending\n",
    "[[15 93 96]\n",
    " [ 6 63 93]\n",
    " [92 90 74]\n",
    " [70 60 48]]\n",
    "\n",
    "iv. based on elements value\n",
    "[[ 6 15 48]\n",
    " [60 63 70]\n",
    " [74 90 92]\n",
    " [93 93 96]]\n",
    "\n",
    "```"
   ]
  },
  {
   "cell_type": "code",
   "execution_count": 30,
   "metadata": {
    "id": "Auy-guUwlALv"
   },
   "outputs": [
    {
     "name": "stdout",
     "output_type": "stream",
     "text": [
      "[[92 90 74]\n",
      " [ 6 63 93]\n",
      " [15 93 96]\n",
      " [70 60 48]]\n",
      "[[74 90 92]\n",
      " [ 6 63 93]\n",
      " [15 93 96]\n",
      " [48 60 70]]\n",
      "[[70 60 48]\n",
      " [ 6 63 93]\n",
      " [92 90 74]\n",
      " [15 93 96]]\n",
      "[[ 6 15 48]\n",
      " [60 63 70]\n",
      " [74 90 92]\n",
      " [93 93 96]]\n",
      "[[ 6 15 48]\n",
      " [60 63 70]\n",
      " [74 90 92]\n",
      " [93 93 96]]\n"
     ]
    }
   ],
   "source": [
    "# code here\n",
    "import numpy as np\n",
    "\n",
    "arr=np.array([\n",
    "    [92, 90, 74],\n",
    "    [6, 63, 93],\n",
    "    [15, 93, 96],\n",
    "    [70, 60, 48]\n",
    "    ])\n",
    "print(arr)\n",
    "\n",
    "#1\n",
    "print(np.sort(arr))\n",
    "#2\n",
    "print(arr[arr[:,1].argsort()])\n",
    "#3\n",
    "np.array(sorted(arr, key=lambda x:max(x)))[::-1,:]\n",
    "#4\n",
    "print(np.sort(arr.flatten()).reshape(4,3))\n",
    "print(np.sort(arr, axis=None).reshape(4,3))"
   ]
  },
  {
   "cell_type": "markdown",
   "metadata": {
    "id": "Jx_I3gx9lBay"
   },
   "source": [
    "###`Q-2:` There is an array of marks of 5 students in 4 subjects. Further you are asked to perform below task.\n",
    "    i. Add marks every student of an extra subject in the same array.\n",
    "    ii. Add two new students marks in respective 5 subjects.(one subject added in above task)\n",
    "    iii. Add extra column with sum of all subjects(5-subjects) marks\n",
    "    iv. Sort the array(non-ascending order) on total marks column--one added in above task. Show top 2 rows.\n",
    "\n",
    "Note: Change dimension of arrays during concatenation or appending if required."
   ]
  },
  {
   "cell_type": "markdown",
   "metadata": {
    "id": "lXF-CE6ylNIw"
   },
   "source": [
    "Given Array-\n",
    "```\n",
    "marks = [[13, 10,  9, 33],\n",
    "       [63, 46, 90, 42],\n",
    "       [39, 76, 13, 29],\n",
    "       [82,  9, 29, 78],\n",
    "       [67, 61, 59, 36]]\n",
    "\n",
    "extra_subject = [41, 87, 72, 36, 92]\n",
    "#Two extra students record-\n",
    "rec1 = [77, 83, 98, 95, 89]\n",
    "rec2 = [92, 71, 52, 61, 53]\n",
    "```"
   ]
  },
  {
   "cell_type": "code",
   "execution_count": 58,
   "metadata": {
    "colab": {
     "base_uri": "https://localhost:8080/"
    },
    "id": "7YKsWO2olMkq",
    "outputId": "0993e33c-7137-4689-a002-09993a236de9"
   },
   "outputs": [
    {
     "name": "stdout",
     "output_type": "stream",
     "text": [
      "[[13 10  9 33]\n",
      " [63 46 90 42]\n",
      " [39 76 13 29]\n",
      " [82  9 29 78]\n",
      " [67 61 59 36]]\n",
      "\n",
      "[[41]\n",
      " [87]\n",
      " [72]\n",
      " [36]\n",
      " [92]]\n",
      "[[77 83 98 95 89]]\n",
      "[[92 71 52 61 53]]\n",
      "\n",
      "[[13 10  9 33 41]\n",
      " [63 46 90 42 87]\n",
      " [39 76 13 29 72]\n",
      " [82  9 29 78 36]\n",
      " [67 61 59 36 92]]\n",
      "\n",
      "[[13 10  9 33 41]\n",
      " [63 46 90 42 87]\n",
      " [39 76 13 29 72]\n",
      " [82  9 29 78 36]\n",
      " [67 61 59 36 92]\n",
      " [77 83 98 95 89]\n",
      " [92 71 52 61 53]]\n",
      "\n",
      "[[ 13  10   9  33  41 106]\n",
      " [ 63  46  90  42  87 328]\n",
      " [ 39  76  13  29  72 229]\n",
      " [ 82   9  29  78  36 234]\n",
      " [ 67  61  59  36  92 315]\n",
      " [ 77  83  98  95  89 442]\n",
      " [ 92  71  52  61  53 329]]\n",
      "\n",
      "[[ 77  83  98  95  89 442]\n",
      " [ 92  71  52  61  53 329]\n",
      " [ 63  46  90  42  87 328]\n",
      " [ 67  61  59  36  92 315]\n",
      " [ 82   9  29  78  36 234]\n",
      " [ 39  76  13  29  72 229]\n",
      " [ 13  10   9  33  41 106]]\n",
      "Top 2 Rows\n",
      "[[ 77  83  98  95  89 442]\n",
      " [ 92  71  52  61  53 329]]\n"
     ]
    }
   ],
   "source": [
    "# code here\n",
    "marks = np.array([[13, 10,  9, 33],\n",
    "       [63, 46, 90, 42],\n",
    "       [39, 76, 13, 29],\n",
    "       [82,  9, 29, 78],\n",
    "       [67, 61, 59, 36]])\n",
    "\n",
    "extra_subject = np.array([41, 87, 72, 36, 92]).reshape(5,1)\n",
    "#Two extra students record-\n",
    "rec1 = np.array([77, 83, 98, 95, 89]).reshape(1,5)\n",
    "rec2 = np.array([92, 71, 52, 61, 53]).reshape(1,5)\n",
    "\n",
    "print(marks, end='\\n\\n')\n",
    "print(extra_subject)\n",
    "print(rec1)\n",
    "print(rec2, end='\\n\\n')\n",
    "\n",
    "com=np.concatenate((marks, extra_subject), axis=1)\n",
    "print(com, end='\\n\\n')\n",
    "com=np.concatenate((com, rec1, rec2), axis=0)\n",
    "print(com, end='\\n\\n')\n",
    "res=np.concatenate((com,np.sum(com, axis=1).reshape(7,1)), axis=1)\n",
    "print(res, end='\\n\\n')\n",
    "\n",
    "print(res[res[:,5].argsort()][::-1,])\n",
    "res=res[res[:,5].argsort()][::-1,]\n",
    "print(\"Top 2 Rows\")\n",
    "print(res[0:2,:])"
   ]
  },
  {
   "cell_type": "markdown",
   "metadata": {
    "id": "VmOyK_8klRqR"
   },
   "source": [
    "###`Q-3:` Find unique arrays from a 2D array column wise and row wise.\n",
    "```\n",
    "arr = np.array([[1,2,3,3,1,1],\n",
    "                [0,9,1,2,8,8],\n",
    "                [1,2,3,8,8,8],\n",
    "                [1,2,3,3,1,1]])\n",
    "```\n",
    "Expected Result-\n",
    "```\n",
    "Row Wise\n",
    "[[0 9 1 2 8 8]\n",
    " [1 2 3 3 1 1]\n",
    " [1 2 3 8 8 8]]\n",
    "\n",
    "Col Wise\n",
    "[[1 1 2 3 3]\n",
    " [0 8 9 1 2]\n",
    " [1 8 2 3 8]\n",
    " [1 1 2 3 3]]\n",
    "```"
   ]
  },
  {
   "cell_type": "code",
   "execution_count": 62,
   "metadata": {
    "id": "LJl10VQrlU5q"
   },
   "outputs": [
    {
     "name": "stdout",
     "output_type": "stream",
     "text": [
      "[[0 9 1 2 8 8]\n",
      " [1 2 3 3 1 1]\n",
      " [1 2 3 8 8 8]]\n",
      "[[1 1 2 3 3]\n",
      " [0 8 9 1 2]\n",
      " [1 8 2 3 8]\n",
      " [1 1 2 3 3]]\n"
     ]
    }
   ],
   "source": [
    "# code here\n",
    "arr = np.array([[1,2,3,3,1,1],\n",
    "                [0,9,1,2,8,8],\n",
    "                [1,2,3,8,8,8],\n",
    "                [1,2,3,3,1,1]])\n",
    "unRW=np.unique(arr, axis=0)\n",
    "print(unRW)\n",
    "unCW=np.unique(arr, axis=1)\n",
    "print(unCW)"
   ]
  },
  {
   "cell_type": "markdown",
   "metadata": {
    "id": "RaXwVkywlWY2"
   },
   "source": [
    "###`Q-4:` Flip given 2-D array along both axes at the same time."
   ]
  },
  {
   "cell_type": "code",
   "execution_count": 65,
   "metadata": {
    "id": "mN7-4G8Kleeq"
   },
   "outputs": [
    {
     "data": {
      "text/plain": [
       "array([[1, 1, 3, 3, 2, 1],\n",
       "       [8, 8, 8, 3, 2, 1],\n",
       "       [8, 8, 2, 1, 9, 0],\n",
       "       [1, 1, 3, 3, 2, 1]])"
      ]
     },
     "execution_count": 65,
     "metadata": {},
     "output_type": "execute_result"
    }
   ],
   "source": [
    "# code here\n",
    "arr = np.array([[1,2,3,3,1,1],\n",
    "                [0,9,1,2,8,8],\n",
    "                [1,2,3,8,8,8],\n",
    "                [1,2,3,3,1,1]])\n",
    "np.flip(arr, axis=None)"
   ]
  },
  {
   "cell_type": "markdown",
   "metadata": {
    "id": "X0S7BUNTlfoq"
   },
   "source": [
    "### `Q-5:` Get row numbers of NumPy array having element larger than X.\n",
    "```\n",
    "arr = [[1,2,3,4,5],\n",
    "      [10,-3,30,4,5],\n",
    "      [3,2,5,-4,5],\n",
    "      [9,7,3,6,5]]\n",
    "\n",
    "X = 6\n",
    "```"
   ]
  },
  {
   "cell_type": "code",
   "execution_count": 76,
   "metadata": {
    "id": "bi8jRmWhlkBU"
   },
   "outputs": [
    {
     "name": "stdout",
     "output_type": "stream",
     "text": [
      "[[ 1  2  3  4  5]\n",
      " [10 -3 30  4  5]\n",
      " [ 3  2  5 -4  5]\n",
      " [ 9  7  3  6  5]]\n"
     ]
    },
    {
     "data": {
      "text/plain": [
       "(array([1, 3]),)"
      ]
     },
     "execution_count": 76,
     "metadata": {},
     "output_type": "execute_result"
    }
   ],
   "source": [
    "# code here\n",
    "arr = np.array([[1,2,3,4,5],\n",
    "      [10,-3,30,4,5],\n",
    "      [3,2,5,-4,5],\n",
    "      [9,7,3,6,5]])\n",
    "x=6\n",
    "print(arr)\n",
    "\n",
    "np.where(np.any(arr>x, axis=1))"
   ]
  },
  {
   "cell_type": "markdown",
   "metadata": {
    "id": "DSCQMo4mlnDG"
   },
   "source": [
    "### `Q-6:` How to convert an array of arrays into a flat 1d array?\n"
   ]
  },
  {
   "cell_type": "code",
   "execution_count": 77,
   "metadata": {
    "id": "QZhSkUT2lsJW"
   },
   "outputs": [],
   "source": [
    "# These arrays are given.\n",
    "arr1 = np.arange(3)\n",
    "arr2 = np.arange(3,7)\n",
    "arr3 = np.arange(7,10)"
   ]
  },
  {
   "cell_type": "code",
   "execution_count": 82,
   "metadata": {
    "id": "f42OXNrFls0I"
   },
   "outputs": [
    {
     "data": {
      "text/plain": [
       "array([0, 1, 2, 3, 4, 5, 6, 7, 8, 9])"
      ]
     },
     "execution_count": 82,
     "metadata": {},
     "output_type": "execute_result"
    }
   ],
   "source": [
    "# code here\n",
    "np.concatenate((arr1, arr2, arr3))"
   ]
  },
  {
   "cell_type": "markdown",
   "metadata": {
    "id": "A1J4oOVCluqO"
   },
   "source": [
    "### `Q-7:` You are given a array. You have to find the minimum and maximum array element and remove that from the array.\n",
    "\n",
    "```python\n",
    "import numpy as np\n",
    "\n",
    "np.random.seed(400)\n",
    "arr = np.random.randint(100, 1000, 200).reshape((1, 200))\n",
    "```"
   ]
  },
  {
   "cell_type": "code",
   "execution_count": 94,
   "metadata": {
    "id": "c6kmgtUJlybZ"
   },
   "outputs": [
    {
     "name": "stdout",
     "output_type": "stream",
     "text": [
      "[[448 563 418 240 507 362 345 236 719 291 298 639 458 387 262 613 267 882\n",
      "  181 425 790 635 889 818 872 967 277 470 336 920 917 295 557 830 506 385\n",
      "  353 975 592 997 137 340 222 215 472 459 617 649 935 956 914 932 645 952\n",
      "  921 490 527 972 278 307 840 958 246 449 251 957 103 627 920 824 356 825\n",
      "  173 323 372 960 710 464 244 782 763 635 436 774 171 469 178 458 624 211\n",
      "  771 270 308 231 952 514 699 702 433 900 373 318 998 265 503 320 230 324\n",
      "  922 967 620 743 527 117 566 804 123 946 587 227 853 757 944 328 855 930\n",
      "  325 729 426 514 296 879 575 936 705 209 191 743 510 513 628 559 658 528\n",
      "  395 525 922 136 496 225 895 975 263 908 420 711 800 976 786 235 930 859\n",
      "  618 226 695 460 218 483 490 803 621 453 193 607 677 637 728 724 534 748\n",
      "  291 194 761 875 687 569 228 482 781 554 654 739 885 197 266 228 892 207\n",
      "  883 588]]\n",
      "103 998\n",
      "[[448 563 418 240 507 362 345 236 719 291 298 639 458 387 262 613 267 882\n",
      "  181 425 790 635 889 818 872 967 277 470 336 920 917 295 557 830 506 385\n",
      "  353 975 592 997 137 340 222 215 472 459 617 649 935 956 914 932 645 952\n",
      "  921 490 527 972 278 307 840 958 246 449 251 957 627 920 824 356 825 173\n",
      "  323 372 960 710 464 244 782 763 635 436 774 171 469 178 458 624 211 771\n",
      "  270 308 231 952 514 699 702 433 900 373 318 265 503 320 230 324 922 967\n",
      "  620 743 527 117 566 804 123 946 587 227 853 757 944 328 855 930 325 729\n",
      "  426 514 296 879 575 936 705 209 191 743 510 513 628 559 658 528 395 525\n",
      "  922 136 496 225 895 975 263 908 420 711 800 976 786 235 930 859 618 226\n",
      "  695 460 218 483 490 803 621 453 193 607 677 637 728 724 534 748 291 194\n",
      "  761 875 687 569 228 482 781 554 654 739 885 197 266 228 892 207 883 588]]\n",
      "117 997\n"
     ]
    }
   ],
   "source": [
    "# code here\n",
    "import numpy as np\n",
    "\n",
    "np.random.seed(400)\n",
    "arr = np.random.randint(100, 1000, 200).reshape((1, 200))\n",
    "print(arr)\n",
    "min_ele=arr.argmin()\n",
    "max_ele=arr.argmax()\n",
    "print(arr.min(), arr.max())\n",
    "arr=np.delete(arr, min_ele, axis=1)\n",
    "arr=np.delete(arr, max_ele-1, axis=1)\n",
    "print(arr)\n",
    "print(arr.min(), arr.max())"
   ]
  },
  {
   "cell_type": "markdown",
   "metadata": {
    "id": "0dHN1sdnl0Jy"
   },
   "source": [
    "### `Q-8:` You are given an arrays. You have to limit this array's elements between 100 to 200. $arr ∈ [100, 700]$. So replace those values accordingly with the minimum and maximum value. Then sort the array and perform the cumulative sum of that array."
   ]
  },
  {
   "cell_type": "code",
   "execution_count": 104,
   "metadata": {
    "id": "a3YF_E-Hlza7"
   },
   "outputs": [
    {
     "name": "stdout",
     "output_type": "stream",
     "text": [
      "[100 100 100 100 100 100 100 100 100 100 100 100 100 100 100 100 100 100\n",
      " 100 100 100 100 100 100 100 100 100 100 100 100 100 100 100 100 100 100\n",
      " 100 100 100 100 100 100 101 101 103 104 104 104 105 106 110 111 114 114\n",
      " 116 117 117 129 131 131 132 132 135 136 136 141 141 142 148 150 151 152\n",
      " 152 159 159 160 160 161 161 164 166 169 170 173 173 180 180 180 180 181\n",
      " 182 183 183 187 187 192 193 194 195 196 196 196 197 199 201 202 203 203\n",
      " 207 208 210 210 212 213 213 214 214 214 217 218 219 220 224 224 226 227\n",
      " 227 232 234 235 235 236 237 237 238 243 245 246 252 254 260 261 261 265\n",
      " 266 267 268 272 275 276 279 287 287 290 291 292 293 293 294 300 305 308\n",
      " 311 314 315 315 321 327 329 331 340 343 344 344 345 347 348 349 349 355\n",
      " 360 361 364 367 368 370 372 374 376 376 377 377 382 383 383 389 399 402\n",
      " 406 409 409 414 415 417 419 420 424 424 425 425 428 432 432 438 438 439\n",
      " 440 440 442 444 446 446 449 450 458 458 463 469 474 474 478 483 484 484\n",
      " 485 491 492 494 496 499 500 500 500 500 500 500 500 500 500 500 500 500\n",
      " 500 500 500 500 500 500 500 500 500 500 500 500 500 500 500 500 500 500\n",
      " 500 500 500 500 500 500 500 500 500 500 500 500 500 500 500 500 500 500\n",
      " 500 500 500 500 500 500 500 500 500 500 500 500 500 500 500 500 500 500\n",
      " 500 500 500 500 500 500 500 500 500 500 500 500 500 500 500 500 500 500\n",
      " 500 500 500 500 500 500 500 500 500 500 500 500 500 500 500 500 500 500\n",
      " 500 500 500 500 500 500 500 500 500 500 500 500 500 500 500 500 500 500\n",
      " 500 500 500 500 500 500 500 500 500 500 500 500 500 500 500 500 500 500\n",
      " 500 500 500 500 500 500 500 500 500 500 500 500 500 500 500 500 500 500\n",
      " 500 500 500 500 500 500 500 500 500 500 500 500 500 500 500 500 500 500\n",
      " 500 500 500 500 500 500 500 500 500 500 500 500 500 500 500 500 500 500\n",
      " 500 500 500 500 500 500 500 500 500 500 500 500 500 500 500 500 500 500\n",
      " 500 500 500 500 500 500 500 500 500 500 500 500 500 500 500 500 500 500\n",
      " 500 500 500 500 500 500 500 500 500 500 500 500 500 500 500 500 500 500\n",
      " 500 500 500 500 500 500 500 500 500 500 500 500 500 500]\n",
      "[   100    200    300    400    500    600    700    800    900   1000\n",
      "   1100   1200   1300   1400   1500   1600   1700   1800   1900   2000\n",
      "   2100   2200   2300   2400   2500   2600   2700   2800   2900   3000\n",
      "   3100   3200   3300   3400   3500   3600   3700   3800   3900   4000\n",
      "   4100   4200   4301   4402   4505   4609   4713   4817   4922   5028\n",
      "   5138   5249   5363   5477   5593   5710   5827   5956   6087   6218\n",
      "   6350   6482   6617   6753   6889   7030   7171   7313   7461   7611\n",
      "   7762   7914   8066   8225   8384   8544   8704   8865   9026   9190\n",
      "   9356   9525   9695   9868  10041  10221  10401  10581  10761  10942\n",
      "  11124  11307  11490  11677  11864  12056  12249  12443  12638  12834\n",
      "  13030  13226  13423  13622  13823  14025  14228  14431  14638  14846\n",
      "  15056  15266  15478  15691  15904  16118  16332  16546  16763  16981\n",
      "  17200  17420  17644  17868  18094  18321  18548  18780  19014  19249\n",
      "  19484  19720  19957  20194  20432  20675  20920  21166  21418  21672\n",
      "  21932  22193  22454  22719  22985  23252  23520  23792  24067  24343\n",
      "  24622  24909  25196  25486  25777  26069  26362  26655  26949  27249\n",
      "  27554  27862  28173  28487  28802  29117  29438  29765  30094  30425\n",
      "  30765  31108  31452  31796  32141  32488  32836  33185  33534  33889\n",
      "  34249  34610  34974  35341  35709  36079  36451  36825  37201  37577\n",
      "  37954  38331  38713  39096  39479  39868  40267  40669  41075  41484\n",
      "  41893  42307  42722  43139  43558  43978  44402  44826  45251  45676\n",
      "  46104  46536  46968  47406  47844  48283  48723  49163  49605  50049\n",
      "  50495  50941  51390  51840  52298  52756  53219  53688  54162  54636\n",
      "  55114  55597  56081  56565  57050  57541  58033  58527  59023  59522\n",
      "  60022  60522  61022  61522  62022  62522  63022  63522  64022  64522\n",
      "  65022  65522  66022  66522  67022  67522  68022  68522  69022  69522\n",
      "  70022  70522  71022  71522  72022  72522  73022  73522  74022  74522\n",
      "  75022  75522  76022  76522  77022  77522  78022  78522  79022  79522\n",
      "  80022  80522  81022  81522  82022  82522  83022  83522  84022  84522\n",
      "  85022  85522  86022  86522  87022  87522  88022  88522  89022  89522\n",
      "  90022  90522  91022  91522  92022  92522  93022  93522  94022  94522\n",
      "  95022  95522  96022  96522  97022  97522  98022  98522  99022  99522\n",
      " 100022 100522 101022 101522 102022 102522 103022 103522 104022 104522\n",
      " 105022 105522 106022 106522 107022 107522 108022 108522 109022 109522\n",
      " 110022 110522 111022 111522 112022 112522 113022 113522 114022 114522\n",
      " 115022 115522 116022 116522 117022 117522 118022 118522 119022 119522\n",
      " 120022 120522 121022 121522 122022 122522 123022 123522 124022 124522\n",
      " 125022 125522 126022 126522 127022 127522 128022 128522 129022 129522\n",
      " 130022 130522 131022 131522 132022 132522 133022 133522 134022 134522\n",
      " 135022 135522 136022 136522 137022 137522 138022 138522 139022 139522\n",
      " 140022 140522 141022 141522 142022 142522 143022 143522 144022 144522\n",
      " 145022 145522 146022 146522 147022 147522 148022 148522 149022 149522\n",
      " 150022 150522 151022 151522 152022 152522 153022 153522 154022 154522\n",
      " 155022 155522 156022 156522 157022 157522 158022 158522 159022 159522\n",
      " 160022 160522 161022 161522 162022 162522 163022 163522 164022 164522\n",
      " 165022 165522 166022 166522 167022 167522 168022 168522 169022 169522\n",
      " 170022 170522 171022 171522 172022 172522 173022 173522 174022 174522\n",
      " 175022 175522 176022 176522 177022 177522 178022 178522 179022 179522\n",
      " 180022 180522 181022 181522 182022 182522 183022 183522 184022 184522\n",
      " 185022 185522 186022 186522 187022 187522 188022 188522 189022 189522]\n"
     ]
    }
   ],
   "source": [
    "# code here\n",
    "arr=np.random.randint(0, 1000, 500)\n",
    "arr=np.sort(np.clip(arr, 100, 500))\n",
    "print(arr)\n",
    "cumSum=np.cumsum(arr)\n",
    "print(cumSum) \n"
   ]
  },
  {
   "cell_type": "markdown",
   "metadata": {
    "id": "cXj90Susl4-I"
   },
   "source": [
    "### `Q-9:` You are given a array ($arr ∈ [0, 1]$). First you have round off the elements upto 3 decimal places and compare that\n",
    "- 0th percentile == minimum value of the array\n",
    "- 100th percentile == maximum value of the array\n",
    "- also find the difference betwen 51th percenile and 50th percentile values"
   ]
  },
  {
   "cell_type": "code",
   "execution_count": 108,
   "metadata": {
    "id": "SgBEHodgl7Lo"
   },
   "outputs": [
    {
     "name": "stdout",
     "output_type": "stream",
     "text": [
      "[0.309 0.105 0.267 0.854 0.56  0.463 0.994 0.973 0.495 0.237 0.098 0.505\n",
      " 0.671 0.268 0.278 0.664 0.093 0.042 0.243 0.481 0.998 0.616 0.941 0.041\n",
      " 0.038 0.198 0.43  0.956 0.116 0.5   0.907 0.568 0.124 0.305 0.975 0.163\n",
      " 0.493 0.029 0.317 0.815 0.606 0.581 0.438 0.342 0.449 0.064 0.403 0.603\n",
      " 0.787 0.426 0.155 0.508 0.899 0.56  0.005 0.448 0.177 0.251 0.266 0.842\n",
      " 0.482 0.475 0.253 0.08  0.655 0.582 0.46  0.62  0.766 0.315 0.298 0.954\n",
      " 0.26  0.071 0.128 0.811 0.708 0.359 0.03  0.827 0.127 0.619 0.6   0.351\n",
      " 0.883 0.511 0.393 0.026 0.824 0.124 0.415 0.986 0.519 0.769 0.433 0.59\n",
      " 0.842 0.491 0.58  0.653]\n",
      "0th percentile == minimum value of the array:  True\n",
      "100th percentile == Maximum value of the array:  True\n",
      "difference betwen 51th percenile and 50th percentile values:  0.008940000000000003\n"
     ]
    }
   ],
   "source": [
    "# code here\n",
    "arr=np.random.random(100)\n",
    "arr=np.around(arr, decimals=3)\n",
    "print(arr)\n",
    "print(\"0th percentile == minimum value of the array: \", np.percentile(arr, 0)==arr.min())\n",
    "print(\"100th percentile == Maximum value of the array: \", np.percentile(arr, 100)==arr.max())\n",
    "print(\"difference betwen 51th percenile and 50th percentile values: \", np.percentile(arr, 51)-np.percentile(arr, 50))"
   ]
  }
 ],
 "metadata": {
  "colab": {
   "provenance": []
  },
  "kernelspec": {
   "display_name": "Python 3 (ipykernel)",
   "language": "python",
   "name": "python3"
  },
  "language_info": {
   "codemirror_mode": {
    "name": "ipython",
    "version": 3
   },
   "file_extension": ".py",
   "mimetype": "text/x-python",
   "name": "python",
   "nbconvert_exporter": "python",
   "pygments_lexer": "ipython3",
   "version": "3.11.5"
  }
 },
 "nbformat": 4,
 "nbformat_minor": 1
}
