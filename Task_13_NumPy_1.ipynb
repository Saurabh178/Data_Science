{
  "nbformat": 4,
  "nbformat_minor": 0,
  "metadata": {
    "colab": {
      "provenance": [],
      "include_colab_link": true
    },
    "kernelspec": {
      "name": "python3",
      "display_name": "Python 3"
    },
    "language_info": {
      "name": "python"
    }
  },
  "cells": [
    {
      "cell_type": "markdown",
      "metadata": {
        "id": "view-in-github",
        "colab_type": "text"
      },
      "source": [
        "<a href=\"https://colab.research.google.com/github/Saurabh178/Data_Science/blob/master/Task_13_NumPy_1.ipynb\" target=\"_parent\"><img src=\"https://colab.research.google.com/assets/colab-badge.svg\" alt=\"Open In Colab\"/></a>"
      ]
    },
    {
      "cell_type": "markdown",
      "source": [
        "**Note: In Data Science googling is a very important skill. If you find some difficulties to solve the problem, google it and try to find some clues to solve.**"
      ],
      "metadata": {
        "id": "6WdKdPGx-tnY"
      }
    },
    {
      "cell_type": "code",
      "source": [
        "import numpy as np"
      ],
      "metadata": {
        "id": "-J4F1ysN4mLk"
      },
      "execution_count": 2,
      "outputs": []
    },
    {
      "cell_type": "markdown",
      "source": [
        "###`Q-1` Create a null vector of size 10 but the fifth value which is 1.\n",
        "\n"
      ],
      "metadata": {
        "id": "a_K8IH-C6HDK"
      }
    },
    {
      "cell_type": "code",
      "source": [
        "#Code here\n",
        "a=(np.arange(10)==5).astype(int)\n",
        "print(a)\n",
        "\n",
        "b=np.nan*np.empty(10)\n",
        "b[5]=1\n",
        "b"
      ],
      "metadata": {
        "id": "sTF03KsZ6QUI",
        "outputId": "bbb7d523-5fe6-4267-bbbe-7ae2d649d474",
        "colab": {
          "base_uri": "https://localhost:8080/"
        }
      },
      "execution_count": 124,
      "outputs": [
        {
          "output_type": "stream",
          "name": "stdout",
          "text": [
            "[0 0 0 0 0 1 0 0 0 0]\n"
          ]
        },
        {
          "output_type": "execute_result",
          "data": {
            "text/plain": [
              "array([nan, nan, nan, nan, nan,  1., nan, nan, nan, nan])"
            ]
          },
          "metadata": {},
          "execution_count": 124
        }
      ]
    },
    {
      "cell_type": "markdown",
      "source": [
        "###`Q-2` Ask user to input two numbers a, b. Write a program to generate a random array of shape (a, b) and print the array and avg of the array."
      ],
      "metadata": {
        "id": "TEiG25rS6S1i"
      }
    },
    {
      "cell_type": "code",
      "source": [
        "#Code here\n",
        "a=int(input(\"Enter first number: \"))\n",
        "b=int(input(\"Enter second number: \"))\n",
        "\n",
        "arr=(np.random.rand(a, b)*100).astype(int)\n",
        "print(arr, end='\\n\\n')\n",
        "\n",
        "np.average(arr)"
      ],
      "metadata": {
        "id": "ihwn4oOH6Vh7",
        "outputId": "a693b417-8b89-49fa-851b-f7dc4c86a773",
        "colab": {
          "base_uri": "https://localhost:8080/"
        }
      },
      "execution_count": 25,
      "outputs": [
        {
          "output_type": "stream",
          "name": "stdout",
          "text": [
            "Enter first number: 3\n",
            "Enter second number: 4\n",
            "[[54 50 66 24]\n",
            " [19  3 50 63]\n",
            " [47 54 39 84]]\n",
            "\n"
          ]
        },
        {
          "output_type": "execute_result",
          "data": {
            "text/plain": [
              "46.083333333333336"
            ]
          },
          "metadata": {},
          "execution_count": 25
        }
      ]
    },
    {
      "cell_type": "markdown",
      "source": [
        "###`Q-3`Write a function to create a 2d array with 1 on the border and 0 inside. Take 2-D array shape as (a,b) as parameter to function.\n",
        "\n",
        "Eg.-\n",
        "```\n",
        "[[1,1,1,1],\n",
        "[1,0,0,1],\n",
        "[1,0,0,1],\n",
        "[1,1,1,1]]\n",
        "```"
      ],
      "metadata": {
        "id": "2iEeybS06ZSq"
      }
    },
    {
      "cell_type": "code",
      "source": [
        "#Code here\n",
        "a=int(input(\"Enter number: \"))\n",
        "arr=np.zeros((a-2)**2).reshape(a-2,a-2).astype(int)\n",
        "arr=np.pad(arr, pad_width=1, constant_values=1)\n",
        "\n",
        "print(arr)\n",
        "\n",
        "b=np.ones((4,5))\n",
        "b[1:-1,1:-1]=0\n",
        "b"
      ],
      "metadata": {
        "id": "gEKndkDU6ZSs",
        "outputId": "077c49e4-2d34-4605-e61e-d816173e36c4",
        "colab": {
          "base_uri": "https://localhost:8080/"
        }
      },
      "execution_count": 126,
      "outputs": [
        {
          "output_type": "stream",
          "name": "stdout",
          "text": [
            "Enter number: 4\n",
            "[[1 1 1 1]\n",
            " [1 0 0 1]\n",
            " [1 0 0 1]\n",
            " [1 1 1 1]]\n"
          ]
        },
        {
          "output_type": "execute_result",
          "data": {
            "text/plain": [
              "array([[1., 1., 1., 1., 1.],\n",
              "       [1., 0., 0., 0., 1.],\n",
              "       [1., 0., 0., 0., 1.],\n",
              "       [1., 1., 1., 1., 1.]])"
            ]
          },
          "metadata": {},
          "execution_count": 126
        }
      ]
    },
    {
      "cell_type": "markdown",
      "source": [
        "###`Q-4` Create a vector of size 10 with values ranging from 0 to 1, both excluded.\n"
      ],
      "metadata": {
        "id": "QRJicQ8j6ZlE"
      }
    },
    {
      "cell_type": "code",
      "source": [
        "#Code here\n",
        "arr=np.random.rand(10)\n",
        "arr"
      ],
      "metadata": {
        "id": "eC4XLhDq6ZlF",
        "outputId": "2f3c1765-862a-41f9-fb04-90a19dd1978b",
        "colab": {
          "base_uri": "https://localhost:8080/"
        }
      },
      "execution_count": 43,
      "outputs": [
        {
          "output_type": "execute_result",
          "data": {
            "text/plain": [
              "array([0.42605073, 0.67745114, 0.31620119, 0.02241937, 0.84222129,\n",
              "       0.09629687, 0.35531976, 0.80179793, 0.46475461, 0.8247741 ])"
            ]
          },
          "metadata": {},
          "execution_count": 43
        }
      ]
    },
    {
      "cell_type": "markdown",
      "source": [
        "###`Q-5` Can you create a identity mattrix of shape (3,4). If yes write code for it."
      ],
      "metadata": {
        "id": "vb4jK4yQ6Zs2"
      }
    },
    {
      "cell_type": "code",
      "source": [
        "#Code here\n",
        "arr=np.identity(4, dtype=int)\n",
        "arr"
      ],
      "metadata": {
        "id": "DTV_AbMS6Zs4",
        "outputId": "83c453c3-52b3-4bc9-9a0c-a485148708f3",
        "colab": {
          "base_uri": "https://localhost:8080/"
        }
      },
      "execution_count": 48,
      "outputs": [
        {
          "output_type": "execute_result",
          "data": {
            "text/plain": [
              "array([[1, 0, 0, 0],\n",
              "       [0, 1, 0, 0],\n",
              "       [0, 0, 1, 0],\n",
              "       [0, 0, 0, 1]])"
            ]
          },
          "metadata": {},
          "execution_count": 48
        }
      ]
    },
    {
      "cell_type": "markdown",
      "source": [
        "###`Q-6:` Create a 5x5 matrix with row values ranging from 0 to 4."
      ],
      "metadata": {
        "id": "QtjAFm5PEntK"
      }
    },
    {
      "cell_type": "code",
      "source": [
        "#Code here\n",
        "arr=np.ones((5,5))\n",
        "arr=(arr*np.arange(5)).astype(int)\n",
        "arr"
      ],
      "metadata": {
        "id": "z2WGxRjvEuRS",
        "outputId": "827bb3ca-b1fd-4e43-cb4b-2fad8f2b51f4",
        "colab": {
          "base_uri": "https://localhost:8080/"
        }
      },
      "execution_count": 59,
      "outputs": [
        {
          "output_type": "execute_result",
          "data": {
            "text/plain": [
              "array([[0, 1, 2, 3, 4],\n",
              "       [0, 1, 2, 3, 4],\n",
              "       [0, 1, 2, 3, 4],\n",
              "       [0, 1, 2, 3, 4],\n",
              "       [0, 1, 2, 3, 4]])"
            ]
          },
          "metadata": {},
          "execution_count": 59
        }
      ]
    },
    {
      "cell_type": "markdown",
      "source": [
        "###`Q-7:`  Consider a random integer (in range 1 to 100) vector with shape `(10,2)` representing coordinates, and coordinates of a point as array is given. Create an array of distance of each point in the random vectros from the given point. Distance array should be interger type.\n",
        "\n",
        "```\n",
        "point = np.array([2,3])\n",
        "```\n"
      ],
      "metadata": {
        "id": "KPpvxKjVHnyx"
      }
    },
    {
      "cell_type": "code",
      "source": [
        "#code here\n",
        "point = np.array([2,3])\n",
        "arr=(np.random.rand(20)*100).astype(int).reshape(10, 2)\n",
        "print(arr, end='\\n\\n')\n",
        "\n",
        "abs=arr-point\n",
        "print(abs, end='\\n\\n')\n",
        "\n",
        "abs=abs**2\n",
        "print(abs, end='\\n\\n')\n",
        "dis=np.sum(abs, axis=1)\n",
        "print(dis)"
      ],
      "metadata": {
        "id": "X7KGnWLNIM6f",
        "outputId": "5b461406-fc5b-47be-fbc4-ea1723862c86",
        "colab": {
          "base_uri": "https://localhost:8080/"
        }
      },
      "execution_count": 127,
      "outputs": [
        {
          "output_type": "stream",
          "name": "stdout",
          "text": [
            "[[94 50]\n",
            " [46 77]\n",
            " [32 87]\n",
            " [48 87]\n",
            " [73 52]\n",
            " [34 91]\n",
            " [75 89]\n",
            " [24 21]\n",
            " [76 65]\n",
            " [ 2 63]]\n",
            "\n",
            "[[92 47]\n",
            " [44 74]\n",
            " [30 84]\n",
            " [46 84]\n",
            " [71 49]\n",
            " [32 88]\n",
            " [73 86]\n",
            " [22 18]\n",
            " [74 62]\n",
            " [ 0 60]]\n",
            "\n",
            "[[8464 2209]\n",
            " [1936 5476]\n",
            " [ 900 7056]\n",
            " [2116 7056]\n",
            " [5041 2401]\n",
            " [1024 7744]\n",
            " [5329 7396]\n",
            " [ 484  324]\n",
            " [5476 3844]\n",
            " [   0 3600]]\n",
            "\n",
            "[10673  7412  7956  9172  7442  8768 12725   808  9320  3600]\n"
          ]
        }
      ]
    },
    {
      "cell_type": "markdown",
      "source": [
        "###`Q-8:` Consider a (6,7,8) shape array, what is the index (x,y,z) of the 100th element?"
      ],
      "metadata": {
        "id": "tajOFJlCDwTr"
      }
    },
    {
      "cell_type": "code",
      "source": [
        "#Code here\n",
        "arr=np.random.randint(1,100, (6,7,8))\n",
        "print(arr)\n",
        "print(arr[1,5,4])\n",
        "np.unravel_index(100, (6,7,8))"
      ],
      "metadata": {
        "id": "qH4oxvs0D3Ra",
        "outputId": "a33b1070-70f6-4ab6-e3ae-cf35d2a454b3",
        "colab": {
          "base_uri": "https://localhost:8080/"
        }
      },
      "execution_count": 132,
      "outputs": [
        {
          "output_type": "stream",
          "name": "stdout",
          "text": [
            "[[[17 54 23 52  3 55 72 51]\n",
            "  [12 85 45 77 23 84 90 51]\n",
            "  [94 31 61 46 62 40  3 30]\n",
            "  [94 52  6 16 51 39 35 58]\n",
            "  [75 72 14 18 14 23 49 77]\n",
            "  [27 32 77 19 43 62  7 12]\n",
            "  [55 56 58 69 84 47 85 24]]\n",
            "\n",
            " [[32 87 83 53 78 68 73 65]\n",
            "  [42 82 73 76 53 74 13 66]\n",
            "  [80 63  6 40 34 84 78 93]\n",
            "  [66 51  5 56 38 53 57 26]\n",
            "  [93 35 54 11  1 17  4 73]\n",
            "  [93 68 19 96 88 54 12 18]\n",
            "  [65 56 68 62 67 83 28 46]]\n",
            "\n",
            " [[80 58 74 40 67  3 48 53]\n",
            "  [70 69  3 49  5 15 95 11]\n",
            "  [99 65 25  2  9  5 90 51]\n",
            "  [87  5 21 57 74  4 28 92]\n",
            "  [29 80 37  1  9 36 71 57]\n",
            "  [76 66 96  7 71 90 48 71]\n",
            "  [ 6 64  3 59 96  1 45 97]]\n",
            "\n",
            " [[68 14 47 56 83 81 65 89]\n",
            "  [ 2 26 14 90 23 70 60 78]\n",
            "  [ 5  6 71 88 58 26  7 76]\n",
            "  [63 98 22 90 42 51 86 17]\n",
            "  [ 3 85 22 78 53 62 19 76]\n",
            "  [80 33 61 82 56 69 66  7]\n",
            "  [58 21 42 31 23 59 43 78]]\n",
            "\n",
            " [[62 15 65 79 26 73 89 35]\n",
            "  [81 74 57 38 32 11 37 18]\n",
            "  [ 9 66 23 18 57 62 43 56]\n",
            "  [13 86  6 69 98 17  9 25]\n",
            "  [41 94 65 67 83 79  4 13]\n",
            "  [80 96 78 10 23 30 46 55]\n",
            "  [62 56 46 23 64 79 90 84]]\n",
            "\n",
            " [[29 94 74 34 13 85 58 99]\n",
            "  [73 85 48 44 38 38 13 97]\n",
            "  [26 24 95 68 90 70 61 78]\n",
            "  [70 67 10 71 86 38 47 98]\n",
            "  [73 47 86 56 69 95 20 37]\n",
            "  [65 76 85 27 58 57 57 14]\n",
            "  [69 82 24 69 67 70 57 70]]]\n",
            "88\n"
          ]
        },
        {
          "output_type": "execute_result",
          "data": {
            "text/plain": [
              "(1, 5, 4)"
            ]
          },
          "metadata": {},
          "execution_count": 132
        }
      ]
    },
    {
      "cell_type": "markdown",
      "source": [
        "### `Q-9:` Arrays\n",
        "\n",
        "You are given a space separated list of numbers. Your task is to print a reversed NumPy array with the element type float.\n",
        "\n"
      ],
      "metadata": {
        "id": "9LxBAbT2Pw33"
      }
    },
    {
      "cell_type": "markdown",
      "source": [
        "**Input Format:**\n",
        "\n",
        "A single line of input containing space separated numbers.\n",
        "\n",
        "**Output Format:**\n",
        "\n",
        "Print the reverse NumPy array with type float.\n",
        "\n",
        "**Example 1:**\n",
        "\n",
        "Input:\n",
        "\n",
        "```bash\n",
        "1 2 3 4 -8 -10\n",
        "```\n",
        "\n",
        "Output:\n",
        "\n",
        "```bash\n",
        "[-10.  -8.   4.   3.   2.   1.]\n",
        "```"
      ],
      "metadata": {
        "id": "JJpqVms2Nq7L"
      }
    },
    {
      "cell_type": "code",
      "source": [
        "#Code here\n",
        "arr=np.random.randint(1, 15, (5))\n",
        "print(arr)\n",
        "\n",
        "arrRev=arr[::-1]\n",
        "print(arrRev)\n",
        "\n",
        "arrRev1=np.flip(arr)\n",
        "print(arrRev1)"
      ],
      "metadata": {
        "id": "7iQyg6ChNl3j",
        "outputId": "ab669b3d-177a-4b38-e527-70f619c76686",
        "colab": {
          "base_uri": "https://localhost:8080/"
        }
      },
      "execution_count": 140,
      "outputs": [
        {
          "metadata": {
            "tags": null
          },
          "name": "stdout",
          "output_type": "stream",
          "text": [
            "[ 7 11 11 13  2]\n",
            "[ 2 13 11 11  7]\n",
            "[ 2 13 11 11  7]\n"
          ]
        }
      ]
    },
    {
      "cell_type": "markdown",
      "source": [
        "### `Q-10:` Elements count\n",
        "\n",
        "Count the number of elements of a numpy array.\n",
        "\n"
      ],
      "metadata": {
        "id": "TPxD7jM8Sjz9"
      }
    },
    {
      "cell_type": "markdown",
      "source": [
        "**Example 1:**\n",
        "\n",
        "Input:\n",
        "```bash\n",
        "np.array([])\n",
        "```\n",
        "\n",
        "Output:\n",
        "```bash\n",
        "elements_count :  0\n",
        "```\n",
        "\n",
        "**Example 2:**\n",
        "\n",
        "Input:\n",
        "```bash\n",
        "np.array([1, 2])\n",
        "```\n",
        "\n",
        "Output:\n",
        "```bash\n",
        "elements_count :  2\n",
        "```"
      ],
      "metadata": {
        "id": "oHTiTz_jNkAU"
      }
    },
    {
      "cell_type": "code",
      "source": [
        "#Code here\n",
        "arr=np.arange(6)\n",
        "print(arr)\n",
        "np.size(arr)"
      ],
      "metadata": {
        "id": "RG0H2I-TNeGN",
        "outputId": "52b1c16d-9ec1-48c0-f805-9005b5770857",
        "colab": {
          "base_uri": "https://localhost:8080/"
        }
      },
      "execution_count": 142,
      "outputs": [
        {
          "output_type": "stream",
          "name": "stdout",
          "text": [
            "[0 1 2 3 4 5]\n"
          ]
        },
        {
          "output_type": "execute_result",
          "data": {
            "text/plain": [
              "6"
            ]
          },
          "metadata": {},
          "execution_count": 142
        }
      ]
    },
    {
      "cell_type": "markdown",
      "source": [
        "### `Q-11:` Softmax function\n",
        "\n",
        "Create a Python function to calculate the Softmax of the given numpy 1D array. The function only accepts the numpy 1D array, otherwise raise error.\n",
        "\n",
        "$$\\Large \\sigma(\\vec z)_i = \\frac{e^{z_i}}{\\sum_{j=i}^{K}{e^{z_j}}}$$\n",
        "\n",
        "https://en.wikipedia.org/wiki/Softmax_function\n",
        "\n"
      ],
      "metadata": {
        "id": "pwgPz-3l5ic5"
      }
    },
    {
      "cell_type": "markdown",
      "source": [
        "**Example 1:**\n",
        "\n",
        "Input:\n",
        "```bash\n",
        "[86.03331084 37.7285648  48.64908087 87.16563062 38.40852563 37.20006318]\n",
        "```\n",
        "\n",
        "Output:\n",
        "```bash\n",
        "[2.43733249e-01, 2.56112115e-22, 1.41628284e-17, 7.56266751e-01,\n",
        "       5.05514197e-22, 1.50974911e-22]\n",
        "```\n",
        "\n",
        "**Example 2:**\n",
        "\n",
        "Input:\n",
        "```bash\n",
        "[33.17344305 45.61961654 82.05405781 80.9647098  68.82830233 91.52064278]\n",
        "```\n",
        "\n",
        "Output:\n",
        "```bash\n",
        "[4.57181035e-26, 1.16249923e-20, 7.73872596e-05, 2.60358426e-05,\n",
        "       1.39571531e-10, 9.99896577e-01]\n",
        "```"
      ],
      "metadata": {
        "id": "eZ3WJt6UM1ul"
      }
    },
    {
      "cell_type": "code",
      "source": [
        "#Code here\n",
        "arr=[33.17344305, 45.61961654, 82.05405781, 80.9647098,  68.82830233, 91.52064278]\n",
        "print(arr, end='\\n\\n')\n",
        "\n",
        "sm=np.exp(arr)/np.sum(np.exp(arr))\n",
        "print(sm)\n"
      ],
      "metadata": {
        "id": "VNzj05lkNaNi",
        "outputId": "3d445537-090b-49bf-ec2d-0e1e0502d7cc",
        "colab": {
          "base_uri": "https://localhost:8080/"
        }
      },
      "execution_count": 159,
      "outputs": [
        {
          "output_type": "stream",
          "name": "stdout",
          "text": [
            "[33.17344305, 45.61961654, 82.05405781, 80.9647098, 68.82830233, 91.52064278]\n",
            "\n",
            "[4.57181033e-26 1.16249922e-20 7.73872594e-05 2.60358426e-05\n",
            " 1.39571531e-10 9.99896577e-01]\n"
          ]
        }
      ]
    },
    {
      "cell_type": "markdown",
      "source": [
        "### `Q-12:` Vertical stack\n",
        "\n",
        "Write a python function that accepts infinite number of numpy arrays and do the vertical stack to them. Then return that new array as result. The function only accepts the numpy array, otherwise raise error.\n",
        "\n"
      ],
      "metadata": {
        "id": "k4JWSwWu_HXg"
      }
    },
    {
      "cell_type": "markdown",
      "source": [
        "**Example 1:**\n",
        "\n",
        "Input:\n",
        "```bash\n",
        "a= [[0 1 2 3 4]\n",
        " [5 6 7 8 9]]\n",
        "\n",
        "b= [[1 1 1 1 1]\n",
        " [1 1 1 1 1]]\n",
        "```\n",
        "\n",
        "Output:\n",
        "\n",
        "```bash\n",
        "[[0 1 2 3 4]\n",
        " [5 6 7 8 9]\n",
        " [1 1 1 1 1]\n",
        " [1 1 1 1 1]]\n",
        "```\n",
        "\n",
        "**Example 2:**\n",
        "\n",
        "Input:\n",
        "```bash\n",
        "a= [[0 1 2 3 4]\n",
        " [5 6 7 8 9]]\n",
        "\n",
        "b= [[1 1 1 1 1]\n",
        " [1 1 1 1 1]]\n",
        "\n",
        "c= [[0.10117373 0.1677244  0.73764059 0.83166097 0.48985695]\n",
        " [0.44581567 0.13502419 0.55692335 0.16479622 0.61193593]]\n",
        "```\n",
        "\n",
        "Output:\n",
        "```bash\n",
        "[[0.         1.         2.         3.         4.        ]\n",
        " [5.         6.         7.         8.         9.        ]\n",
        " [1.         1.         1.         1.         1.        ]\n",
        " [1.         1.         1.         1.         1.        ]\n",
        " [0.10117373 0.1677244  0.73764059 0.83166097 0.48985695]\n",
        " [0.44581567 0.13502419 0.55692335 0.16479622 0.61193593]]\n",
        "```"
      ],
      "metadata": {
        "id": "XhhV3mraNAWr"
      }
    },
    {
      "cell_type": "code",
      "source": [
        "#Coder here\n",
        "a=np.random.randint(1,20, (3,4))\n",
        "print(a)\n",
        "b=np.random.randint(1,20, (3,4))\n",
        "print(b)\n",
        "\n",
        "arr=np.vstack((a, b))\n",
        "arr"
      ],
      "metadata": {
        "id": "dhtnbSj6NP8z",
        "outputId": "c3c0c4ef-0fc5-438b-90e6-9dea53833602",
        "colab": {
          "base_uri": "https://localhost:8080/"
        }
      },
      "execution_count": 168,
      "outputs": [
        {
          "output_type": "stream",
          "name": "stdout",
          "text": [
            "[[16  9 13 15]\n",
            " [12  1 15  6]\n",
            " [ 8 18  9 17]]\n",
            "[[ 8 11 15  4]\n",
            " [ 8  9  3  4]\n",
            " [ 5  1 17  6]]\n"
          ]
        },
        {
          "output_type": "execute_result",
          "data": {
            "text/plain": [
              "array([[16,  9, 13, 15],\n",
              "       [12,  1, 15,  6],\n",
              "       [ 8, 18,  9, 17],\n",
              "       [ 8, 11, 15,  4],\n",
              "       [ 8,  9,  3,  4],\n",
              "       [ 5,  1, 17,  6]])"
            ]
          },
          "metadata": {},
          "execution_count": 168
        }
      ]
    },
    {
      "cell_type": "markdown",
      "source": [
        "### `Q-13:` Dates\n",
        "\n",
        "Create a python function named **date_array** that accepts two dates as string format and returns a numpy array of dates between those 2 dates. The function only accept 2 strings, otherwise raise error. The date format should be like this only: `2022-12-6`. The end date should be included and for simplicity, choose dates from a same year.\n",
        "\n"
      ],
      "metadata": {
        "id": "3mk8T6CuC2DP"
      }
    },
    {
      "cell_type": "markdown",
      "source": [
        "**Example 1:**\n",
        "\n",
        "Input:\n",
        "```bash\n",
        "date_array(start = '2020-09-15', end = '2020-09-25')\n",
        "```\n",
        "\n",
        "Output:\n",
        "```bash\n",
        "['2020-09-15', '2020-09-16', '2020-09-17', '2020-09-18',\n",
        " '2020-09-19', '2020-09-20', '2020-09-21', '2020-09-22',\n",
        " '2020-09-23', '2020-09-24', '2020-09-25']\n",
        "```\n",
        "\n",
        "**Example 2:**\n",
        "\n",
        "Input:\n",
        "```bash\n",
        "date_array(start = '2022-12-01', end = '2022-12-06')\n",
        "```\n",
        "\n",
        "Output:\n",
        "```bash\n",
        "['2022-12-01', '2022-12-02', '2022-12-03', '2022-12-04', '2022-12-05', '2022-12-06']\n",
        "```\n",
        "\n",
        "**Example 3:**\n",
        "\n",
        "Input:\n",
        "```bash\n",
        "date_array(start = '2020-11-25', end = '2020-11-30')\n",
        "```\n",
        "\n",
        "Output:\n",
        "```bash\n",
        "['2020-11-25', '2020-11-26', '2020-11-27', '2020-11-28',\n",
        " '2020-11-29', '2020-11-30']\n",
        "```"
      ],
      "metadata": {
        "id": "E3IgjnTTNFEk"
      }
    },
    {
      "cell_type": "code",
      "source": [
        "#Code here\n",
        "def date_array(start, end):\n",
        "  if type(start)!=str or type(end)!=str:\n",
        "    raise TypeError\n",
        "\n",
        "  total_number_of_days={'01':31, '02':28, '03':31, '04':30, '05':31, '06':30, '07':31, '08':31, '09':30, '10':31, '11':30, '12':31}\n",
        "  end=end.split('-')\n",
        "  end_last=int(end[-1])+1\n",
        "\n",
        "  if total_number_of_days[end[-2]]<end_last:\n",
        "    diff=end_last-total_number_of_days[end[-2]]\n",
        "    end[-1]=f'0{diff}' if diff <10 else f'{diff}'\n",
        "    next_month=int(end[-2])+1\n",
        "    end[-2]=f'0{next_month}' if next_month <10 else f'{next_month}'\n",
        "  else:\n",
        "    end[-1]=f'0{end_last}' if end_last <10 else f'{end_last}'\n",
        "\n",
        "  end='-'.join(end)\n",
        "  return np.arange(start, end, dtype='datetime64[D]')\n",
        "\n",
        "date_array(start = '2020-10-25', end = '2020-12-30')"
      ],
      "metadata": {
        "id": "Yj5PBfQQNTnL",
        "outputId": "80c5c098-862b-4dd5-b98d-05a3791c6854",
        "colab": {
          "base_uri": "https://localhost:8080/"
        }
      },
      "execution_count": 181,
      "outputs": [
        {
          "output_type": "execute_result",
          "data": {
            "text/plain": [
              "array(['2020-10-25', '2020-10-26', '2020-10-27', '2020-10-28',\n",
              "       '2020-10-29', '2020-10-30', '2020-10-31', '2020-11-01',\n",
              "       '2020-11-02', '2020-11-03', '2020-11-04', '2020-11-05',\n",
              "       '2020-11-06', '2020-11-07', '2020-11-08', '2020-11-09',\n",
              "       '2020-11-10', '2020-11-11', '2020-11-12', '2020-11-13',\n",
              "       '2020-11-14', '2020-11-15', '2020-11-16', '2020-11-17',\n",
              "       '2020-11-18', '2020-11-19', '2020-11-20', '2020-11-21',\n",
              "       '2020-11-22', '2020-11-23', '2020-11-24', '2020-11-25',\n",
              "       '2020-11-26', '2020-11-27', '2020-11-28', '2020-11-29',\n",
              "       '2020-11-30', '2020-12-01', '2020-12-02', '2020-12-03',\n",
              "       '2020-12-04', '2020-12-05', '2020-12-06', '2020-12-07',\n",
              "       '2020-12-08', '2020-12-09', '2020-12-10', '2020-12-11',\n",
              "       '2020-12-12', '2020-12-13', '2020-12-14', '2020-12-15',\n",
              "       '2020-12-16', '2020-12-17', '2020-12-18', '2020-12-19',\n",
              "       '2020-12-20', '2020-12-21', '2020-12-22', '2020-12-23',\n",
              "       '2020-12-24', '2020-12-25', '2020-12-26', '2020-12-27',\n",
              "       '2020-12-28', '2020-12-29', '2020-12-30'], dtype='datetime64[D]')"
            ]
          },
          "metadata": {},
          "execution_count": 181
        }
      ]
    },
    {
      "cell_type": "markdown",
      "source": [
        "###`Q-14:` Subtract the mean of each row from a matrix."
      ],
      "metadata": {
        "id": "bcEp0wTWQijK"
      }
    },
    {
      "cell_type": "code",
      "source": [
        "#code here\n",
        "arr=np.random.randint(1,10, (5,4))\n",
        "arr\n",
        "x=np.mean(arr, axis=1, keepdims=True)\n",
        "arr=arr-x\n",
        "arr"
      ],
      "metadata": {
        "id": "rpILVGcgQzMo",
        "outputId": "31d01a92-8a33-486c-b87f-51b849c83822",
        "colab": {
          "base_uri": "https://localhost:8080/"
        }
      },
      "execution_count": 189,
      "outputs": [
        {
          "output_type": "execute_result",
          "data": {
            "text/plain": [
              "array([[ 1.25,  2.25, -1.75, -1.75],\n",
              "       [-0.75,  1.25, -0.75,  0.25],\n",
              "       [ 3.25,  2.25, -1.75, -3.75],\n",
              "       [ 3.  ,  3.  , -4.  , -2.  ],\n",
              "       [ 2.5 , -1.5 ,  1.5 , -2.5 ]])"
            ]
          },
          "metadata": {},
          "execution_count": 189
        }
      ]
    },
    {
      "cell_type": "markdown",
      "source": [
        "###`Q-15:` Swap column-1 of array with column-2 in the array."
      ],
      "metadata": {
        "id": "A-dMVlPPSBTT"
      }
    },
    {
      "cell_type": "code",
      "source": [
        "#Code here\n",
        "arr=np.arange(1,13).reshape(3,4)\n",
        "print(arr, end='\\n\\n')\n",
        "arr=arr[:, [0, 2, 1, 3]]\n",
        "print(arr, end='\\n\\n')\n"
      ],
      "metadata": {
        "id": "3RtngM9-Q6S7",
        "outputId": "d107822d-513b-4c83-fd3b-ffe8ac22c2e3",
        "colab": {
          "base_uri": "https://localhost:8080/"
        }
      },
      "execution_count": 199,
      "outputs": [
        {
          "output_type": "stream",
          "name": "stdout",
          "text": [
            "[[ 1  2  3  4]\n",
            " [ 5  6  7  8]\n",
            " [ 9 10 11 12]]\n",
            "\n",
            "[[ 1  3  2  4]\n",
            " [ 5  7  6  8]\n",
            " [ 9 11 10 12]]\n",
            "\n"
          ]
        }
      ]
    },
    {
      "cell_type": "code",
      "source": [],
      "metadata": {
        "id": "ueoMV_LlSnGU"
      },
      "execution_count": null,
      "outputs": []
    },
    {
      "cell_type": "markdown",
      "source": [
        "###`Q-16:` Replace odd elements in arrays with -1."
      ],
      "metadata": {
        "id": "cB4VMexvS6Zi"
      }
    },
    {
      "cell_type": "code",
      "source": [
        "#Code here\n",
        "a=np.arange(1,13).reshape(4,3)\n",
        "print(a, end='\\n\\n')\n",
        "a[a%2==1]=-1\n",
        "print(a, end='\\n\\n')"
      ],
      "metadata": {
        "id": "Bt83nXEVS5O4",
        "outputId": "8c5229af-e01c-4a06-d4fa-2752803ccc0e",
        "colab": {
          "base_uri": "https://localhost:8080/"
        }
      },
      "execution_count": 205,
      "outputs": [
        {
          "output_type": "stream",
          "name": "stdout",
          "text": [
            "[[ 1  2  3]\n",
            " [ 4  5  6]\n",
            " [ 7  8  9]\n",
            " [10 11 12]]\n",
            "\n",
            "[[-1  2 -1]\n",
            " [ 4 -1  6]\n",
            " [-1  8 -1]\n",
            " [10 -1 12]]\n",
            "\n"
          ]
        },
        {
          "output_type": "execute_result",
          "data": {
            "text/plain": [
              "array([[ True, False,  True],\n",
              "       [False,  True, False],\n",
              "       [ True, False,  True],\n",
              "       [False,  True, False]])"
            ]
          },
          "metadata": {},
          "execution_count": 205
        }
      ]
    },
    {
      "cell_type": "code",
      "source": [],
      "metadata": {
        "id": "1ZlvMaXLVyoW"
      },
      "execution_count": null,
      "outputs": []
    },
    {
      "cell_type": "markdown",
      "source": [
        "###`Q-17:` Given two arrays of same shape make an array of max out of two arrays. (Numpy way)\n",
        "```\n",
        "a=np.array([6,3,1,5,8])\n",
        "b=np.array([3,2,1,7,2])\n",
        "\n",
        "Result-> [6 3 1 7 8]\n",
        "```"
      ],
      "metadata": {
        "id": "kf_qvmBxWIT_"
      }
    },
    {
      "cell_type": "code",
      "source": [
        "#Code here\n",
        "a=np.array([6,3,1,5,8])\n",
        "b=np.array([3,2,1,7,2])\n",
        "arr=np.vstack((a,b))\n",
        "res=np.max(arr, axis=0)\n",
        "res"
      ],
      "metadata": {
        "id": "TB9ZvF-EZSfu",
        "outputId": "5dc9afd6-a377-4cf2-a487-220c371bdfdf",
        "colab": {
          "base_uri": "https://localhost:8080/"
        }
      },
      "execution_count": 201,
      "outputs": [
        {
          "output_type": "execute_result",
          "data": {
            "text/plain": [
              "array([6, 3, 1, 7, 8])"
            ]
          },
          "metadata": {},
          "execution_count": 201
        }
      ]
    },
    {
      "cell_type": "code",
      "source": [],
      "metadata": {
        "id": "D7ad-A6jZzCL"
      },
      "execution_count": null,
      "outputs": []
    },
    {
      "cell_type": "markdown",
      "source": [
        "###`Q-18` Answer below asked questions on given array:\n",
        "1. Fetch Every alternate column of the array\n",
        "2. Normalise the given array\n",
        "\n",
        "https://en.wikipedia.org/wiki/Normalization_(statistics)\n",
        "\n",
        "There are different form of normalisation for this question use below formula.\n",
        "\n",
        "$$\\large X_{normalized} = \\frac{X - X_{min}}{X_{max} - X_{min}}$$\n",
        "\n",
        "```python\n",
        "arr1=np.random.randint(low=1, high=10000, size=40).reshape(8,5)\n",
        "```\n"
      ],
      "metadata": {
        "id": "iOQLUIeGc3zA"
      }
    },
    {
      "cell_type": "code",
      "source": [
        "# Given\n",
        "arr1=np.random.randint(low=1, high=10000, size=40).reshape(8,5)\n",
        "print(arr1, end='\\n\\n')\n",
        "arr1=arr1[:, ::2]\n",
        "print(arr1, end='\\n\\n')\n",
        "\n",
        "x=(arr1-arr1.min())/(arr1.max()-arr1.min())\n",
        "print(x, end='\\n\\n')"
      ],
      "metadata": {
        "colab": {
          "base_uri": "https://localhost:8080/"
        },
        "id": "vjSm18k3d_1p",
        "outputId": "e5c81a88-347a-4eb8-fc0c-671c5e837c6b"
      },
      "execution_count": 210,
      "outputs": [
        {
          "output_type": "stream",
          "name": "stdout",
          "text": [
            "[[9711 8898 1165 3208 1810]\n",
            " [4739  109 6924 3796 2549]\n",
            " [3068 3138 2591 7895 5164]\n",
            " [8148  409 5026 5094 4577]\n",
            " [5688 4306 4502 7928 1934]\n",
            " [6480 4365 5455 3494 6742]\n",
            " [4920 6066 4820 7260 7446]\n",
            " [1054 5917 2789 7996 7643]]\n",
            "\n",
            "[[9711 1165 1810]\n",
            " [4739 6924 2549]\n",
            " [3068 2591 5164]\n",
            " [8148 5026 4577]\n",
            " [5688 4502 1934]\n",
            " [6480 5455 6742]\n",
            " [4920 4820 7446]\n",
            " [1054 2789 7643]]\n",
            "\n",
            "[[1.         0.01282199 0.08732817]\n",
            " [0.42566709 0.67806399 0.17269262]\n",
            " [0.2326441  0.17754418 0.47476031]\n",
            " [0.81945247 0.45881945 0.40695391]\n",
            " [0.53528936 0.3982904  0.10165184]\n",
            " [0.62677602 0.50837473 0.65704055]\n",
            " [0.44657503 0.43502368 0.73836202]\n",
            " [0.         0.20041585 0.76111817]]\n",
            "\n"
          ]
        }
      ]
    },
    {
      "cell_type": "code",
      "source": [
        "#Code here"
      ],
      "metadata": {
        "id": "d7u8DB47eBfQ"
      },
      "execution_count": null,
      "outputs": []
    },
    {
      "cell_type": "markdown",
      "source": [
        "###`Q-19:` Write a function which will accept 2 arguments.\n",
        "First: A 1D numpy array arr\n",
        "\n",
        "Second: An integer n {Please make sure n<=len(arr)}\n",
        "\n",
        "Output: The output should be the nth largest item out of the array\n",
        "```\n",
        "# Example1 : arr=(12,34,40,7,1,0) and n=3, the output should be 12\n",
        "# Example2 : arr=(12,34,40,7,1,0) and n=1, the output should be 40\n",
        "```"
      ],
      "metadata": {
        "id": "jCzsVEKLgGNo"
      }
    },
    {
      "cell_type": "code",
      "source": [
        "#Code here\n",
        "def nLargest(arr, n):\n",
        "  if n>len(arr):\n",
        "    raise IndexError(\"Out of Range\")\n",
        "  arr.sort()\n",
        "  return arr[-n]\n",
        "\n",
        "nLargest(np.array([2,6,4,1,8]), 2)"
      ],
      "metadata": {
        "id": "J4AzkDk7gXSG",
        "outputId": "3f981285-1263-4417-d652-dd5024fe583a",
        "colab": {
          "base_uri": "https://localhost:8080/"
        }
      },
      "execution_count": 228,
      "outputs": [
        {
          "output_type": "execute_result",
          "data": {
            "text/plain": [
              "6"
            ]
          },
          "metadata": {},
          "execution_count": 228
        }
      ]
    },
    {
      "cell_type": "markdown",
      "source": [
        "###`Q-20:` Create the following pattern without hardcoding. Use only numpy functions and the below input array a.\n",
        "```\n",
        "# Input: a = np.array([1,2,3])\n",
        "# Output: array([1, 1, 1, 2, 2, 2, 3, 3, 3, 1, 2, 3, 1, 2, 3, 1, 2, 3])\n",
        "```"
      ],
      "metadata": {
        "id": "ja0xPCgjhBsg"
      }
    },
    {
      "cell_type": "code",
      "source": [
        "#code here\n",
        "a = np.array([1,2,3])\n",
        "b=np.repeat(a, 3)\n",
        "c=np.tile(a,3)\n",
        "a=np.hstack((b,c))\n",
        "a"
      ],
      "metadata": {
        "id": "CndS8TTNhG0F",
        "outputId": "9c0fca11-5147-48c2-9d16-a5bddeef46a5",
        "colab": {
          "base_uri": "https://localhost:8080/"
        }
      },
      "execution_count": 229,
      "outputs": [
        {
          "output_type": "execute_result",
          "data": {
            "text/plain": [
              "array([1, 1, 1, 2, 2, 2, 3, 3, 3, 1, 2, 3, 1, 2, 3, 1, 2, 3])"
            ]
          },
          "metadata": {},
          "execution_count": 229
        }
      ]
    }
  ]
}