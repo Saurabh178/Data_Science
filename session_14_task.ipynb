{
  "nbformat": 4,
  "nbformat_minor": 0,
  "metadata": {
    "colab": {
      "provenance": [],
      "include_colab_link": true
    },
    "kernelspec": {
      "name": "python3",
      "display_name": "Python 3"
    },
    "language_info": {
      "name": "python"
    }
  },
  "cells": [
    {
      "cell_type": "markdown",
      "metadata": {
        "id": "view-in-github",
        "colab_type": "text"
      },
      "source": [
        "<a href=\"https://colab.research.google.com/github/Saurabh178/Data_Science/blob/master/session_14_task.ipynb\" target=\"_parent\"><img src=\"https://colab.research.google.com/assets/colab-badge.svg\" alt=\"Open In Colab\"/></a>"
      ]
    },
    {
      "cell_type": "markdown",
      "source": [
        "###`Q-1:` Find the nearest element in the array to a given integer.\n",
        "```\n",
        "Ex:-\n",
        "a=23 and array - [10 17 24 31 38 45 52 59].\n",
        "Nearest element is 24\n",
        "```\n",
        "Hint: Read about this function `argmin()`"
      ],
      "metadata": {
        "id": "1uamk9vAix0o"
      }
    },
    {
      "cell_type": "code",
      "source": [
        "# code here\n",
        "import numpy as np\n",
        "n=[10, 17, 24, 31, 38, 45, 52, 59]\n",
        "p=[]\n",
        "a=23\n",
        "\n",
        "for i in n:\n",
        "  p.append(abs(i-a))\n",
        "\n",
        "minEle=min(p)\n",
        "res=p.index(minEle)\n",
        "\n",
        "print(n[res])\n",
        "\n",
        "num=abs(np.array([10, 17, 24, 31, 38, 45, 52, 59])-a)\n",
        "print(num)\n",
        "r=np.argmin(num)\n",
        "print(n[r])\n"
      ],
      "metadata": {
        "id": "ddkpbpR6iySZ",
        "outputId": "1db2c97a-6737-4d66-8176-af60a52b7243",
        "colab": {
          "base_uri": "https://localhost:8080/"
        }
      },
      "execution_count": 35,
      "outputs": [
        {
          "output_type": "stream",
          "name": "stdout",
          "text": [
            "24\n",
            "[13  6  1  8 15 22 29 36]\n",
            "24\n"
          ]
        }
      ]
    },
    {
      "cell_type": "markdown",
      "source": [
        "###`Q-2:` Replace multiples of 3 or 5 as 0 in the given array.\n",
        "```\n",
        "arr=[1 2 3 4 5 6 7 9]\n",
        "\n",
        "result-> [1 2 0 4 0 0 7 0]\n",
        "```"
      ],
      "metadata": {
        "id": "Y1QkHyPpizyp"
      }
    },
    {
      "cell_type": "code",
      "source": [
        "# code here\n",
        "arr=np.array([1, 2, 3, 4, 5, 6, 7, 9])\n",
        "arr[(arr%3==0) | (arr%5==0)]=0\n",
        "arr"
      ],
      "metadata": {
        "id": "JjtxMlhWi25l",
        "outputId": "890444eb-38d9-4d5e-8f8d-ae89b602807c",
        "colab": {
          "base_uri": "https://localhost:8080/"
        }
      },
      "execution_count": 40,
      "outputs": [
        {
          "output_type": "execute_result",
          "data": {
            "text/plain": [
              "array([1, 2, 0, 4, 0, 0, 7, 0])"
            ]
          },
          "metadata": {},
          "execution_count": 40
        }
      ]
    },
    {
      "cell_type": "markdown",
      "source": [
        "###`Q-3:` Use Fancy Indexing.\n",
        "1. Double the array elements at  given indexes\n",
        "```\n",
        "arr = np.arrange(10)\n",
        "indexes = [0,3,4,9]\n",
        "```\n",
        "Result -> `[ 0  1  2  6  8  5  6  7  8 18]`\n",
        "\n",
        "2. Using a given array make a different array as in below example\n",
        "```\n",
        "array = [1,2,3]\n",
        "result array -> [1 1 1 2 2 2 3 3 3]\n",
        "```\n",
        "* Internal-repetion should be as length of the array.\n",
        "\n",
        "Hint:\n",
        "```\n",
        "if a is an array\n",
        "a = [2,4]\n",
        "a[[1,1,0,1]] will result in-> [4 4 2 4]\n",
        "```"
      ],
      "metadata": {
        "id": "Pi_dZSwTi4OI"
      }
    },
    {
      "cell_type": "code",
      "source": [
        "# code here\n",
        "a=np.arange(10)\n",
        "idx=np.array([0,3,4,9])\n",
        "a[idx]=a[idx]*2\n",
        "print(a)\n",
        "\n",
        "a=np.array([1,2,3])\n",
        "a=np.sort(np.hstack((a,a, a)))\n",
        "print(a)"
      ],
      "metadata": {
        "id": "SHYuyuovi66N",
        "outputId": "9516c62f-03ba-48d1-df97-32c1ba46a830",
        "colab": {
          "base_uri": "https://localhost:8080/"
        }
      },
      "execution_count": 59,
      "outputs": [
        {
          "output_type": "stream",
          "name": "stdout",
          "text": [
            "[ 0  1  2  6  8  5  6  7  8 18]\n",
            "[1 1 1 2 2 2 3 3 3]\n"
          ]
        }
      ]
    },
    {
      "cell_type": "markdown",
      "source": [
        "###`Q-4:` Your are given an array which is havig some nan value. You job is to fill those nan values with most common element in the array.\n",
        "```\n",
        "arr=np.array([[1,2,np.nan],[4,2,6],[np.nan,np.nan,5]])\n",
        "\n",
        "```"
      ],
      "metadata": {
        "id": "UDehG0tFi89i"
      }
    },
    {
      "cell_type": "code",
      "source": [
        "# code here"
      ],
      "metadata": {
        "id": "YH13A6w9jEyu"
      },
      "execution_count": null,
      "outputs": []
    },
    {
      "cell_type": "markdown",
      "source": [
        "### `Q-5:` Write a NumPy program\n",
        "\n",
        "- to find the missing data in a given array. Return a boolean matrix.\n",
        "- also try to fill those missing values with 0. For that, you can use `np.nan_to_num(a)`\n",
        "\n",
        "```python\n",
        "import numpy as np\n",
        "\n",
        "np.array([[3, 2, np.nan, 1],\n",
        "          [10, 12, 10, 9],\n",
        "          [5, np.nan, 1, np.nan]])\n",
        "```"
      ],
      "metadata": {
        "id": "Tk2JnioUjJ_t"
      }
    },
    {
      "cell_type": "code",
      "source": [
        "# code here\n",
        "import numpy as np\n",
        "\n",
        "a=np.array([[3, 2, np.nan, 1],\n",
        "          [10, 12, 10, 9],\n",
        "          [5, np.nan, 1, np.nan]])\n",
        "\n",
        "print(np.nan_to_num(a), end='\\n\\n')\n",
        "\n",
        "a[np.isnan(a)]=True\n",
        "print(a)\n"
      ],
      "metadata": {
        "id": "nPEBTQJ_jJZe",
        "outputId": "3d97b712-ddad-4bc8-f419-90f222b97f68",
        "colab": {
          "base_uri": "https://localhost:8080/"
        }
      },
      "execution_count": 74,
      "outputs": [
        {
          "output_type": "stream",
          "name": "stdout",
          "text": [
            "[[ 3.  2.  0.  1.]\n",
            " [10. 12. 10.  9.]\n",
            " [ 5.  0.  1.  0.]]\n",
            "\n",
            "[[ 3.  2.  1.  1.]\n",
            " [10. 12. 10.  9.]\n",
            " [ 5.  1.  1.  1.]]\n"
          ]
        }
      ]
    },
    {
      "cell_type": "markdown",
      "source": [
        "###`Q-6:` Given two arrays, X and Y, construct the Cauchy matrix C.\n",
        "`Cij =1/(xi - yj)`\n",
        "\n",
        "http://en.wikipedia.org/wiki/Cauchy_matrix\n",
        "```\n",
        "x = numpy.array([1,2,3,4]).reshape((-1, 1)\n",
        "y = numpy.array([5,6,7])\n",
        "```"
      ],
      "metadata": {
        "id": "FFUnZtG7jNBH"
      }
    },
    {
      "cell_type": "code",
      "source": [
        "# code here\n",
        "x = np.array([1,2,3,4]).reshape((-1, 1))\n",
        "y = np.array([5,6,7])\n",
        "c=1/(x-y)\n",
        "print(c)"
      ],
      "metadata": {
        "id": "pQXHa38TjVEh",
        "outputId": "02e8bb3a-66ea-44cd-cf53-280032c62c25",
        "colab": {
          "base_uri": "https://localhost:8080/"
        }
      },
      "execution_count": 81,
      "outputs": [
        {
          "output_type": "stream",
          "name": "stdout",
          "text": [
            "[[-4 -5 -6]\n",
            " [-3 -4 -5]\n",
            " [-2 -3 -4]\n",
            " [-1 -2 -3]]\n",
            "[[-0.25       -0.2        -0.16666667]\n",
            " [-0.33333333 -0.25       -0.2       ]\n",
            " [-0.5        -0.33333333 -0.25      ]\n",
            " [-1.         -0.5        -0.33333333]]\n"
          ]
        }
      ]
    },
    {
      "cell_type": "markdown",
      "source": [
        "###`Q-7:` Plot this below equation.\n",
        "\n",
        "$$\\large y = \\frac{e^x - e^{-x}}{e^x + e^{-x}}$$\n",
        "\n",
        "**Note: This equation is called tanh activation function. In deep learning, many times this function is used. If you find some difference between the sigmoid function and this tanh function, note that to your notebook.**"
      ],
      "metadata": {
        "id": "EbkHZCF1jWNc"
      }
    },
    {
      "cell_type": "code",
      "source": [
        "# code here\n",
        "import matplotlib.pyplot as plt\n",
        "\n",
        "x=np.linspace(-10, 10, 100)\n",
        "y=(np.exp(x)-np.exp(-x))/(np.exp(x)+np.exp(-x))\n",
        "y\n",
        "plt.plot(x,y)"
      ],
      "metadata": {
        "id": "n6OcN--FjbLC",
        "outputId": "bfe9b18a-c571-4588-e676-60a33e1caec6",
        "colab": {
          "base_uri": "https://localhost:8080/",
          "height": 448
        }
      },
      "execution_count": 86,
      "outputs": [
        {
          "output_type": "execute_result",
          "data": {
            "text/plain": [
              "[<matplotlib.lines.Line2D at 0x7efb22ac7a30>]"
            ]
          },
          "metadata": {},
          "execution_count": 86
        },
        {
          "output_type": "display_data",
          "data": {
            "text/plain": [
              "<Figure size 640x480 with 1 Axes>"
            ],
            "image/png": "[encoded data removed]"
          },
          "metadata": {}
        }
      ]
    },
    {
      "cell_type": "markdown",
      "source": [
        "### `Q-8:` Plot the below equation.\n",
        "\n",
        "$$\\large y = \\sqrt{36 - (x - 4)^2} + 2$$\n",
        "\n",
        "The range of x should be between -2 to 10. $x ∈ [-2, 10]$\n",
        "\n"
      ],
      "metadata": {
        "id": "xujS-pu4jciH"
      }
    },
    {
      "cell_type": "code",
      "source": [
        "# code here\n",
        "x=np.linspace(-2,10,50)\n",
        "y=np.sqrt(36-(x-4)**2)+2\n",
        "print(x)\n",
        "print(y)\n",
        "\n",
        "plt.plot(x,y)"
      ],
      "metadata": {
        "id": "7CagwKP_jhIQ",
        "outputId": "0aebdf00-8a7b-4616-9217-04515117b2dc",
        "colab": {
          "base_uri": "https://localhost:8080/",
          "height": 769
        }
      },
      "execution_count": 89,
      "outputs": [
        {
          "output_type": "stream",
          "name": "stdout",
          "text": [
            "[-2.         -1.75510204 -1.51020408 -1.26530612 -1.02040816 -0.7755102\n",
            " -0.53061224 -0.28571429 -0.04081633  0.20408163  0.44897959  0.69387755\n",
            "  0.93877551  1.18367347  1.42857143  1.67346939  1.91836735  2.16326531\n",
            "  2.40816327  2.65306122  2.89795918  3.14285714  3.3877551   3.63265306\n",
            "  3.87755102  4.12244898  4.36734694  4.6122449   4.85714286  5.10204082\n",
            "  5.34693878  5.59183673  5.83673469  6.08163265  6.32653061  6.57142857\n",
            "  6.81632653  7.06122449  7.30612245  7.55102041  7.79591837  8.04081633\n",
            "  8.28571429  8.53061224  8.7755102   9.02040816  9.26530612  9.51020408\n",
            "  9.75510204 10.        ]\n",
            "[2.         3.69670283 4.37437381 4.87689962 5.28565091 5.63242375\n",
            " 5.93364369 6.19912527 6.43529068 6.64661207 6.83634718 7.0069506\n",
            " 7.16032021 7.29795289 7.42104742 7.53057459 7.62732667 7.71195288\n",
            " 7.78498538 7.84685864 7.89792388 7.93845991 7.96868128 7.98874413\n",
            " 7.99875039 7.99875039 7.98874413 7.96868128 7.93845991 7.89792388\n",
            " 7.84685864 7.78498538 7.71195288 7.62732667 7.53057459 7.42104742\n",
            " 7.29795289 7.16032021 7.0069506  6.83634718 6.64661207 6.43529068\n",
            " 6.19912527 5.93364369 5.63242375 5.28565091 4.87689962 4.37437381\n",
            " 3.69670283 2.        ]\n"
          ]
        },
        {
          "output_type": "execute_result",
          "data": {
            "text/plain": [
              "[<matplotlib.lines.Line2D at 0x7efb2064c760>]"
            ]
          },
          "metadata": {},
          "execution_count": 89
        },
        {
          "output_type": "display_data",
          "data": {
            "text/plain": [
              "<Figure size 640x480 with 1 Axes>"
            ],
            "image/png": "[encoded data removed]"
          },
          "metadata": {}
        }
      ]
    },
    {
      "cell_type": "markdown",
      "source": [
        "### `Q-9:` Write a program implement Boradcasting Rule to check if two array can be added or not.\n",
        "Given tuples of shapes.\n",
        "```\n",
        "shape of a- (3,2,2)\n",
        "shape of b- (2,2)\n",
        "\n",
        "check_broadcast(a, b) -> return Boolean (True if can broadcasted, False other wise.)\n",
        "```"
      ],
      "metadata": {
        "id": "Jf14pxCfjiX1"
      }
    },
    {
      "cell_type": "code",
      "source": [
        "# code here"
      ],
      "metadata": {
        "id": "qSKGG0Yajlc8"
      },
      "execution_count": null,
      "outputs": []
    }
  ]
}